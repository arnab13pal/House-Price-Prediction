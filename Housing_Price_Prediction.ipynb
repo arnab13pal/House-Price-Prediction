{
 "cells": [
  {
   "cell_type": "markdown",
   "metadata": {
    "id": "-6b4ckcrZwNI"
   },
   "source": [
    "# Project Name: Predicting Home Prices in Banglore using ML and Auto SK Learn"
   ]
  },
  {
   "cell_type": "markdown",
   "metadata": {
    "id": "LrQyDPI3o6GD"
   },
   "source": [
    "![download.jpg](data:image/jpeg;base64,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)"
   ]
  },
  {
   "cell_type": "markdown",
   "metadata": {
    "id": "qZQjIZEAZwNW"
   },
   "source": [
    "## Context:\n",
    "### What are the things that a potential home buyer considers before purchasing a house? The location, the size of the property, vicinity to offices, schools, parks, restaurants, hospitals or the stereotypical white picket fence? What about the most important factor — the price?"
   ]
  },
  {
   "cell_type": "markdown",
   "metadata": {
    "id": "bIOu7cYSZwNX"
   },
   "source": [
    "Dataset is downloaded from here: https://www.kaggle.com/amitabhajoy/bengaluru-house-price-data"
   ]
  },
  {
   "cell_type": "markdown",
   "metadata": {
    "id": "g2AHfy8iZwNY"
   },
   "source": [
    "### We will be using different ML and Auto SK Learn Library (Auto ML) for this project."
   ]
  },
  {
   "cell_type": "markdown",
   "metadata": {
    "id": "HdSQh7JfZwNY"
   },
   "source": [
    "## Time Line of the Project:\n",
    "- Data Analysis\n",
    "- Feature Engineering\n",
    "- Model Building using ML\n",
    "- Model Building using Auto SK Learn"
   ]
  },
  {
   "cell_type": "markdown",
   "metadata": {
    "id": "XSO0lm0SZwNY"
   },
   "source": [
    "### Importing Libraries"
   ]
  },
  {
   "cell_type": "code",
   "execution_count": 1,
   "metadata": {
    "id": "deqA3aY4ZwNZ"
   },
   "outputs": [],
   "source": [
    "import pandas as pd\n",
    "import numpy as np\n",
    "from matplotlib import pyplot as plt\n",
    "%matplotlib inline\n",
    "import matplotlib "
   ]
  },
  {
   "cell_type": "markdown",
   "metadata": {
    "id": "MEvkqBUeZwNa"
   },
   "source": [
    "<h2 style='color:blue'>Data Load: Load banglore home prices into a dataframe</h2>"
   ]
  },
  {
   "cell_type": "code",
   "execution_count": null,
   "metadata": {
    "id": "ur_LYnKnZz_h"
   },
   "outputs": [],
   "source": [
    "from google.colab import drive\n",
    "drive.mount('/content/drive')\n"
   ]
  },
  {
   "cell_type": "code",
   "execution_count": 3,
   "metadata": {
    "id": "lde2jwRNZwNb"
   },
   "outputs": [
    {
     "data": {
      "text/html": [
       "<div>\n",
       "<style scoped>\n",
       "    .dataframe tbody tr th:only-of-type {\n",
       "        vertical-align: middle;\n",
       "    }\n",
       "\n",
       "    .dataframe tbody tr th {\n",
       "        vertical-align: top;\n",
       "    }\n",
       "\n",
       "    .dataframe thead th {\n",
       "        text-align: right;\n",
       "    }\n",
       "</style>\n",
       "<table border=\"1\" class=\"dataframe\">\n",
       "  <thead>\n",
       "    <tr style=\"text-align: right;\">\n",
       "      <th></th>\n",
       "      <th>area_type</th>\n",
       "      <th>availability</th>\n",
       "      <th>location</th>\n",
       "      <th>size</th>\n",
       "      <th>society</th>\n",
       "      <th>total_sqft</th>\n",
       "      <th>bath</th>\n",
       "      <th>balcony</th>\n",
       "      <th>price</th>\n",
       "    </tr>\n",
       "  </thead>\n",
       "  <tbody>\n",
       "    <tr>\n",
       "      <th>0</th>\n",
       "      <td>Super built-up  Area</td>\n",
       "      <td>19-Dec</td>\n",
       "      <td>Electronic City Phase II</td>\n",
       "      <td>2 BHK</td>\n",
       "      <td>Coomee</td>\n",
       "      <td>1056</td>\n",
       "      <td>2.0</td>\n",
       "      <td>1.0</td>\n",
       "      <td>39.07</td>\n",
       "    </tr>\n",
       "    <tr>\n",
       "      <th>1</th>\n",
       "      <td>Plot  Area</td>\n",
       "      <td>Ready To Move</td>\n",
       "      <td>Chikka Tirupathi</td>\n",
       "      <td>4 Bedroom</td>\n",
       "      <td>Theanmp</td>\n",
       "      <td>2600</td>\n",
       "      <td>5.0</td>\n",
       "      <td>3.0</td>\n",
       "      <td>120.00</td>\n",
       "    </tr>\n",
       "    <tr>\n",
       "      <th>2</th>\n",
       "      <td>Built-up  Area</td>\n",
       "      <td>Ready To Move</td>\n",
       "      <td>Uttarahalli</td>\n",
       "      <td>3 BHK</td>\n",
       "      <td>NaN</td>\n",
       "      <td>1440</td>\n",
       "      <td>2.0</td>\n",
       "      <td>3.0</td>\n",
       "      <td>62.00</td>\n",
       "    </tr>\n",
       "    <tr>\n",
       "      <th>3</th>\n",
       "      <td>Super built-up  Area</td>\n",
       "      <td>Ready To Move</td>\n",
       "      <td>Lingadheeranahalli</td>\n",
       "      <td>3 BHK</td>\n",
       "      <td>Soiewre</td>\n",
       "      <td>1521</td>\n",
       "      <td>3.0</td>\n",
       "      <td>1.0</td>\n",
       "      <td>95.00</td>\n",
       "    </tr>\n",
       "    <tr>\n",
       "      <th>4</th>\n",
       "      <td>Super built-up  Area</td>\n",
       "      <td>Ready To Move</td>\n",
       "      <td>Kothanur</td>\n",
       "      <td>2 BHK</td>\n",
       "      <td>NaN</td>\n",
       "      <td>1200</td>\n",
       "      <td>2.0</td>\n",
       "      <td>1.0</td>\n",
       "      <td>51.00</td>\n",
       "    </tr>\n",
       "  </tbody>\n",
       "</table>\n",
       "</div>"
      ],
      "text/plain": [
       "              area_type   availability                  location       size  \\\n",
       "0  Super built-up  Area         19-Dec  Electronic City Phase II      2 BHK   \n",
       "1            Plot  Area  Ready To Move          Chikka Tirupathi  4 Bedroom   \n",
       "2        Built-up  Area  Ready To Move               Uttarahalli      3 BHK   \n",
       "3  Super built-up  Area  Ready To Move        Lingadheeranahalli      3 BHK   \n",
       "4  Super built-up  Area  Ready To Move                  Kothanur      2 BHK   \n",
       "\n",
       "   society total_sqft  bath  balcony   price  \n",
       "0  Coomee        1056   2.0      1.0   39.07  \n",
       "1  Theanmp       2600   5.0      3.0  120.00  \n",
       "2      NaN       1440   2.0      3.0   62.00  \n",
       "3  Soiewre       1521   3.0      1.0   95.00  \n",
       "4      NaN       1200   2.0      1.0   51.00  "
      ]
     },
     "execution_count": 3,
     "metadata": {},
     "output_type": "execute_result"
    }
   ],
   "source": [
    "df1 = pd.read_csv(r'C:\\Users\\INP\\Desktop\\Project Files and Code\\bengaluru_house_prices.csv')\n",
    "df1.head()"
   ]
  },
  {
   "cell_type": "code",
   "execution_count": 5,
   "metadata": {
    "id": "lGcdsYMFNekc"
   },
   "outputs": [
    {
     "data": {
      "text/html": [
       "<div>\n",
       "<style scoped>\n",
       "    .dataframe tbody tr th:only-of-type {\n",
       "        vertical-align: middle;\n",
       "    }\n",
       "\n",
       "    .dataframe tbody tr th {\n",
       "        vertical-align: top;\n",
       "    }\n",
       "\n",
       "    .dataframe thead th {\n",
       "        text-align: right;\n",
       "    }\n",
       "</style>\n",
       "<table border=\"1\" class=\"dataframe\">\n",
       "  <thead>\n",
       "    <tr style=\"text-align: right;\">\n",
       "      <th></th>\n",
       "      <th>area_type</th>\n",
       "      <th>availability</th>\n",
       "      <th>location</th>\n",
       "      <th>size</th>\n",
       "      <th>society</th>\n",
       "      <th>total_sqft</th>\n",
       "      <th>bath</th>\n",
       "      <th>balcony</th>\n",
       "      <th>price</th>\n",
       "    </tr>\n",
       "  </thead>\n",
       "  <tbody>\n",
       "    <tr>\n",
       "      <th>0</th>\n",
       "      <td>Super built-up  Area</td>\n",
       "      <td>19-Dec</td>\n",
       "      <td>Electronic City Phase II</td>\n",
       "      <td>2 BHK</td>\n",
       "      <td>Coomee</td>\n",
       "      <td>1056</td>\n",
       "      <td>2.0</td>\n",
       "      <td>1.0</td>\n",
       "      <td>39.07</td>\n",
       "    </tr>\n",
       "    <tr>\n",
       "      <th>1</th>\n",
       "      <td>Plot  Area</td>\n",
       "      <td>Ready To Move</td>\n",
       "      <td>Chikka Tirupathi</td>\n",
       "      <td>4 Bedroom</td>\n",
       "      <td>Theanmp</td>\n",
       "      <td>2600</td>\n",
       "      <td>5.0</td>\n",
       "      <td>3.0</td>\n",
       "      <td>120.00</td>\n",
       "    </tr>\n",
       "    <tr>\n",
       "      <th>2</th>\n",
       "      <td>Built-up  Area</td>\n",
       "      <td>Ready To Move</td>\n",
       "      <td>Uttarahalli</td>\n",
       "      <td>3 BHK</td>\n",
       "      <td>NaN</td>\n",
       "      <td>1440</td>\n",
       "      <td>2.0</td>\n",
       "      <td>3.0</td>\n",
       "      <td>62.00</td>\n",
       "    </tr>\n",
       "    <tr>\n",
       "      <th>3</th>\n",
       "      <td>Super built-up  Area</td>\n",
       "      <td>Ready To Move</td>\n",
       "      <td>Lingadheeranahalli</td>\n",
       "      <td>3 BHK</td>\n",
       "      <td>Soiewre</td>\n",
       "      <td>1521</td>\n",
       "      <td>3.0</td>\n",
       "      <td>1.0</td>\n",
       "      <td>95.00</td>\n",
       "    </tr>\n",
       "    <tr>\n",
       "      <th>4</th>\n",
       "      <td>Super built-up  Area</td>\n",
       "      <td>Ready To Move</td>\n",
       "      <td>Kothanur</td>\n",
       "      <td>2 BHK</td>\n",
       "      <td>NaN</td>\n",
       "      <td>1200</td>\n",
       "      <td>2.0</td>\n",
       "      <td>1.0</td>\n",
       "      <td>51.00</td>\n",
       "    </tr>\n",
       "  </tbody>\n",
       "</table>\n",
       "</div>"
      ],
      "text/plain": [
       "              area_type   availability                  location       size  \\\n",
       "0  Super built-up  Area         19-Dec  Electronic City Phase II      2 BHK   \n",
       "1            Plot  Area  Ready To Move          Chikka Tirupathi  4 Bedroom   \n",
       "2        Built-up  Area  Ready To Move               Uttarahalli      3 BHK   \n",
       "3  Super built-up  Area  Ready To Move        Lingadheeranahalli      3 BHK   \n",
       "4  Super built-up  Area  Ready To Move                  Kothanur      2 BHK   \n",
       "\n",
       "   society total_sqft  bath  balcony   price  \n",
       "0  Coomee        1056   2.0      1.0   39.07  \n",
       "1  Theanmp       2600   5.0      3.0  120.00  \n",
       "2      NaN       1440   2.0      3.0   62.00  \n",
       "3  Soiewre       1521   3.0      1.0   95.00  \n",
       "4      NaN       1200   2.0      1.0   51.00  "
      ]
     },
     "execution_count": 5,
     "metadata": {},
     "output_type": "execute_result"
    }
   ],
   "source": [
    "df1.head()"
   ]
  },
  {
   "cell_type": "code",
   "execution_count": 7,
   "metadata": {
    "id": "hqR4Kgm9ZwNd"
   },
   "outputs": [
    {
     "data": {
      "text/plain": [
       "(13320, 9)"
      ]
     },
     "execution_count": 7,
     "metadata": {},
     "output_type": "execute_result"
    }
   ],
   "source": [
    "df1.shape"
   ]
  },
  {
   "cell_type": "code",
   "execution_count": 9,
   "metadata": {
    "id": "56gztl-aZwNe"
   },
   "outputs": [
    {
     "data": {
      "text/plain": [
       "area_type\n",
       "Super built-up  Area    8790\n",
       "Built-up  Area          2418\n",
       "Plot  Area              2025\n",
       "Carpet  Area              87\n",
       "Name: count, dtype: int64"
      ]
     },
     "execution_count": 9,
     "metadata": {},
     "output_type": "execute_result"
    }
   ],
   "source": [
    "df1['area_type'].value_counts()"
   ]
  },
  {
   "cell_type": "markdown",
   "metadata": {
    "id": "eTPNSobnZwNf"
   },
   "source": [
    "**Drop features that are not required to build our model**"
   ]
  },
  {
   "cell_type": "code",
   "execution_count": 11,
   "metadata": {
    "id": "HIlzZphgZwNf"
   },
   "outputs": [
    {
     "data": {
      "text/plain": [
       "(13320, 5)"
      ]
     },
     "execution_count": 11,
     "metadata": {},
     "output_type": "execute_result"
    }
   ],
   "source": [
    "df2 = df1.drop(['area_type','society','balcony','availability'],axis='columns')\n",
    "df2.shape"
   ]
  },
  {
   "cell_type": "markdown",
   "metadata": {
    "id": "wacH2VB2ZwNf"
   },
   "source": [
    "<h2 style='color:blue'>Data Cleaning: Handle NA values</h2>"
   ]
  },
  {
   "cell_type": "code",
   "execution_count": 13,
   "metadata": {
    "id": "d_DcrKrfZwNg"
   },
   "outputs": [
    {
     "data": {
      "text/plain": [
       "location       1\n",
       "size          16\n",
       "total_sqft     0\n",
       "bath          73\n",
       "price          0\n",
       "dtype: int64"
      ]
     },
     "execution_count": 13,
     "metadata": {},
     "output_type": "execute_result"
    }
   ],
   "source": [
    "df2.isnull().sum()"
   ]
  },
  {
   "cell_type": "code",
   "execution_count": 15,
   "metadata": {
    "id": "62AAd66AZwNg"
   },
   "outputs": [],
   "source": [
    "df3 = df2.dropna()"
   ]
  },
  {
   "cell_type": "code",
   "execution_count": 17,
   "metadata": {
    "id": "LCwm_G3UZwNg"
   },
   "outputs": [
    {
     "data": {
      "text/plain": [
       "(13246, 5)"
      ]
     },
     "execution_count": 17,
     "metadata": {},
     "output_type": "execute_result"
    }
   ],
   "source": [
    "df3.shape"
   ]
  },
  {
   "cell_type": "markdown",
   "metadata": {
    "id": "x5SpjHnYZwNh"
   },
   "source": [
    "<h2 style='color:blue'>Feature Engineering</h2>"
   ]
  },
  {
   "cell_type": "markdown",
   "metadata": {
    "id": "sGiAFi1iZwNh"
   },
   "source": [
    "**Add new feature(integer) for bhk (Bedrooms Hall Kitchen)**"
   ]
  },
  {
   "cell_type": "code",
   "execution_count": 19,
   "metadata": {
    "id": "YT5Vby-lZwNh"
   },
   "outputs": [
    {
     "name": "stderr",
     "output_type": "stream",
     "text": [
      "C:\\Users\\INP\\AppData\\Local\\Temp\\ipykernel_7244\\2716584372.py:1: SettingWithCopyWarning: \n",
      "A value is trying to be set on a copy of a slice from a DataFrame.\n",
      "Try using .loc[row_indexer,col_indexer] = value instead\n",
      "\n",
      "See the caveats in the documentation: https://pandas.pydata.org/pandas-docs/stable/user_guide/indexing.html#returning-a-view-versus-a-copy\n",
      "  df3['bhk'] = df3['size'].apply(lambda x: int(x.split(' ')[0]))\n"
     ]
    },
    {
     "data": {
      "text/plain": [
       "array([ 2,  4,  3,  6,  1,  8,  7,  5, 11,  9, 27, 10, 19, 16, 43, 14, 12,\n",
       "       13, 18], dtype=int64)"
      ]
     },
     "execution_count": 19,
     "metadata": {},
     "output_type": "execute_result"
    }
   ],
   "source": [
    "df3['bhk'] = df3['size'].apply(lambda x: int(x.split(' ')[0]))\n",
    "df3.bhk.unique()"
   ]
  },
  {
   "cell_type": "code",
   "execution_count": 21,
   "metadata": {
    "id": "-wUp3WHFZwNj"
   },
   "outputs": [],
   "source": [
    "def convert_sqft_to_num(x):\n",
    "    tokens = x.split('-')\n",
    "    if len(tokens) == 2:\n",
    "        return (float(tokens[0])+float(tokens[1]))/2\n",
    "    try:\n",
    "        return float(x)\n",
    "    except:\n",
    "        return None   "
   ]
  },
  {
   "cell_type": "code",
   "execution_count": 23,
   "metadata": {
    "id": "kJYpippcZwNj"
   },
   "outputs": [
    {
     "data": {
      "text/html": [
       "<div>\n",
       "<style scoped>\n",
       "    .dataframe tbody tr th:only-of-type {\n",
       "        vertical-align: middle;\n",
       "    }\n",
       "\n",
       "    .dataframe tbody tr th {\n",
       "        vertical-align: top;\n",
       "    }\n",
       "\n",
       "    .dataframe thead th {\n",
       "        text-align: right;\n",
       "    }\n",
       "</style>\n",
       "<table border=\"1\" class=\"dataframe\">\n",
       "  <thead>\n",
       "    <tr style=\"text-align: right;\">\n",
       "      <th></th>\n",
       "      <th>location</th>\n",
       "      <th>size</th>\n",
       "      <th>total_sqft</th>\n",
       "      <th>bath</th>\n",
       "      <th>price</th>\n",
       "      <th>bhk</th>\n",
       "    </tr>\n",
       "  </thead>\n",
       "  <tbody>\n",
       "    <tr>\n",
       "      <th>0</th>\n",
       "      <td>Electronic City Phase II</td>\n",
       "      <td>2 BHK</td>\n",
       "      <td>1056.0</td>\n",
       "      <td>2.0</td>\n",
       "      <td>39.07</td>\n",
       "      <td>2</td>\n",
       "    </tr>\n",
       "    <tr>\n",
       "      <th>1</th>\n",
       "      <td>Chikka Tirupathi</td>\n",
       "      <td>4 Bedroom</td>\n",
       "      <td>2600.0</td>\n",
       "      <td>5.0</td>\n",
       "      <td>120.00</td>\n",
       "      <td>4</td>\n",
       "    </tr>\n",
       "  </tbody>\n",
       "</table>\n",
       "</div>"
      ],
      "text/plain": [
       "                   location       size  total_sqft  bath   price  bhk\n",
       "0  Electronic City Phase II      2 BHK      1056.0   2.0   39.07    2\n",
       "1          Chikka Tirupathi  4 Bedroom      2600.0   5.0  120.00    4"
      ]
     },
     "execution_count": 23,
     "metadata": {},
     "output_type": "execute_result"
    }
   ],
   "source": [
    "df4 = df3.copy()\n",
    "df4.total_sqft = df4.total_sqft.apply(convert_sqft_to_num)\n",
    "df4 = df4[df4.total_sqft.notnull()]\n",
    "df4.head(2)"
   ]
  },
  {
   "cell_type": "markdown",
   "metadata": {
    "id": "ZLRY33exZwNk"
   },
   "source": [
    "**Add new feature called price per square feet**"
   ]
  },
  {
   "cell_type": "code",
   "execution_count": 25,
   "metadata": {
    "id": "QsR-yfB6ZwNk"
   },
   "outputs": [
    {
     "data": {
      "text/html": [
       "<div>\n",
       "<style scoped>\n",
       "    .dataframe tbody tr th:only-of-type {\n",
       "        vertical-align: middle;\n",
       "    }\n",
       "\n",
       "    .dataframe tbody tr th {\n",
       "        vertical-align: top;\n",
       "    }\n",
       "\n",
       "    .dataframe thead th {\n",
       "        text-align: right;\n",
       "    }\n",
       "</style>\n",
       "<table border=\"1\" class=\"dataframe\">\n",
       "  <thead>\n",
       "    <tr style=\"text-align: right;\">\n",
       "      <th></th>\n",
       "      <th>location</th>\n",
       "      <th>size</th>\n",
       "      <th>total_sqft</th>\n",
       "      <th>bath</th>\n",
       "      <th>price</th>\n",
       "      <th>bhk</th>\n",
       "      <th>price_per_sqft</th>\n",
       "    </tr>\n",
       "  </thead>\n",
       "  <tbody>\n",
       "    <tr>\n",
       "      <th>0</th>\n",
       "      <td>Electronic City Phase II</td>\n",
       "      <td>2 BHK</td>\n",
       "      <td>1056.0</td>\n",
       "      <td>2.0</td>\n",
       "      <td>39.07</td>\n",
       "      <td>2</td>\n",
       "      <td>3699.810606</td>\n",
       "    </tr>\n",
       "    <tr>\n",
       "      <th>1</th>\n",
       "      <td>Chikka Tirupathi</td>\n",
       "      <td>4 Bedroom</td>\n",
       "      <td>2600.0</td>\n",
       "      <td>5.0</td>\n",
       "      <td>120.00</td>\n",
       "      <td>4</td>\n",
       "      <td>4615.384615</td>\n",
       "    </tr>\n",
       "    <tr>\n",
       "      <th>2</th>\n",
       "      <td>Uttarahalli</td>\n",
       "      <td>3 BHK</td>\n",
       "      <td>1440.0</td>\n",
       "      <td>2.0</td>\n",
       "      <td>62.00</td>\n",
       "      <td>3</td>\n",
       "      <td>4305.555556</td>\n",
       "    </tr>\n",
       "    <tr>\n",
       "      <th>3</th>\n",
       "      <td>Lingadheeranahalli</td>\n",
       "      <td>3 BHK</td>\n",
       "      <td>1521.0</td>\n",
       "      <td>3.0</td>\n",
       "      <td>95.00</td>\n",
       "      <td>3</td>\n",
       "      <td>6245.890861</td>\n",
       "    </tr>\n",
       "    <tr>\n",
       "      <th>4</th>\n",
       "      <td>Kothanur</td>\n",
       "      <td>2 BHK</td>\n",
       "      <td>1200.0</td>\n",
       "      <td>2.0</td>\n",
       "      <td>51.00</td>\n",
       "      <td>2</td>\n",
       "      <td>4250.000000</td>\n",
       "    </tr>\n",
       "  </tbody>\n",
       "</table>\n",
       "</div>"
      ],
      "text/plain": [
       "                   location       size  total_sqft  bath   price  bhk  \\\n",
       "0  Electronic City Phase II      2 BHK      1056.0   2.0   39.07    2   \n",
       "1          Chikka Tirupathi  4 Bedroom      2600.0   5.0  120.00    4   \n",
       "2               Uttarahalli      3 BHK      1440.0   2.0   62.00    3   \n",
       "3        Lingadheeranahalli      3 BHK      1521.0   3.0   95.00    3   \n",
       "4                  Kothanur      2 BHK      1200.0   2.0   51.00    2   \n",
       "\n",
       "   price_per_sqft  \n",
       "0     3699.810606  \n",
       "1     4615.384615  \n",
       "2     4305.555556  \n",
       "3     6245.890861  \n",
       "4     4250.000000  "
      ]
     },
     "execution_count": 25,
     "metadata": {},
     "output_type": "execute_result"
    }
   ],
   "source": [
    "df5 = df4.copy()\n",
    "df5['price_per_sqft'] = df5['price']*100000/df5['total_sqft']\n",
    "df5.head()"
   ]
  },
  {
   "cell_type": "code",
   "execution_count": 27,
   "metadata": {
    "id": "ohpXKpSuZwNk"
   },
   "outputs": [],
   "source": [
    "df5.to_csv(\"bhp.csv\",index=False)"
   ]
  },
  {
   "cell_type": "markdown",
   "metadata": {
    "id": "Yn15qcMaZwNl"
   },
   "source": [
    "**Examine locations which is a categorical variable. We need to apply dimensionality reduction technique here to reduce number of locations**"
   ]
  },
  {
   "cell_type": "code",
   "execution_count": 29,
   "metadata": {
    "id": "FK4S-Bd_ZwNl"
   },
   "outputs": [
    {
     "data": {
      "text/plain": [
       "location\n",
       "Whitefield                   533\n",
       "Sarjapur  Road               392\n",
       "Electronic City              304\n",
       "Kanakpura Road               264\n",
       "Thanisandra                  235\n",
       "                            ... \n",
       "Rajanna Layout                 1\n",
       "Subramanyanagar                1\n",
       "Lakshmipura Vidyaanyapura      1\n",
       "Malur Hosur Road               1\n",
       "Abshot Layout                  1\n",
       "Name: count, Length: 1287, dtype: int64"
      ]
     },
     "execution_count": 29,
     "metadata": {},
     "output_type": "execute_result"
    }
   ],
   "source": [
    "df5.location = df5.location.apply(lambda x: x.strip())\n",
    "location_stats = df5['location'].value_counts(ascending=False)\n",
    "location_stats"
   ]
  },
  {
   "cell_type": "code",
   "execution_count": 31,
   "metadata": {
    "id": "FPTJt85WZwNl"
   },
   "outputs": [
    {
     "data": {
      "text/plain": [
       "13200"
      ]
     },
     "execution_count": 31,
     "metadata": {},
     "output_type": "execute_result"
    }
   ],
   "source": [
    "location_stats.values.sum()"
   ]
  },
  {
   "cell_type": "code",
   "execution_count": 33,
   "metadata": {
    "id": "YPYmvwY2ZwNl",
    "scrolled": true
   },
   "outputs": [
    {
     "data": {
      "text/plain": [
       "240"
      ]
     },
     "execution_count": 33,
     "metadata": {},
     "output_type": "execute_result"
    }
   ],
   "source": [
    "len(location_stats[location_stats>10])"
   ]
  },
  {
   "cell_type": "code",
   "execution_count": 35,
   "metadata": {
    "id": "cOAJIRK_ZwNm"
   },
   "outputs": [
    {
     "data": {
      "text/plain": [
       "1287"
      ]
     },
     "execution_count": 35,
     "metadata": {},
     "output_type": "execute_result"
    }
   ],
   "source": [
    "len(location_stats)"
   ]
  },
  {
   "cell_type": "markdown",
   "metadata": {
    "id": "veDZjSMTZwNm"
   },
   "source": [
    "<h2 style=\"color:blue\">Dimensionality Reduction</h2>"
   ]
  },
  {
   "cell_type": "markdown",
   "metadata": {
    "id": "TgW13FHcZwNm"
   },
   "source": [
    "**Any location having less than 10 data points will be tagged as \"other\" location. This way number of categories can be reduced by huge amount. It will help us with having fewer dummy columns**"
   ]
  },
  {
   "cell_type": "code",
   "execution_count": 37,
   "metadata": {
    "id": "sFJgGLAiZwNn"
   },
   "outputs": [],
   "source": [
    "location_stats_less_than_10 = location_stats[location_stats<=10]"
   ]
  },
  {
   "cell_type": "code",
   "execution_count": 39,
   "metadata": {
    "id": "SAgdm4N_ZwNn"
   },
   "outputs": [
    {
     "data": {
      "text/plain": [
       "241"
      ]
     },
     "execution_count": 39,
     "metadata": {},
     "output_type": "execute_result"
    }
   ],
   "source": [
    "df5.location = df5.location.apply(lambda x: 'other' if x in location_stats_less_than_10 else x)\n",
    "len(df5.location.unique())"
   ]
  },
  {
   "cell_type": "markdown",
   "metadata": {
    "id": "ylfHCkZEZwNo"
   },
   "source": [
    "<h2 style=\"color:blue\">Outlier Removal Using Logic</h2>"
   ]
  },
  {
   "cell_type": "markdown",
   "metadata": {
    "id": "5rXpZ2DkZwNo"
   },
   "source": [
    "**Normally square ft per bedroom is 300 (i.e. 2 bhk apartment is minimum 600 sqft. Example 400 sqft apartment with 2 bhk than that seems suspicious and can be removed as an outlier. We will remove such outliers by keeping our minimum thresold per bhk to be 300 sqft**"
   ]
  },
  {
   "cell_type": "code",
   "execution_count": 41,
   "metadata": {
    "id": "4NZ6QtBVZwNp",
    "scrolled": true
   },
   "outputs": [
    {
     "data": {
      "text/html": [
       "<div>\n",
       "<style scoped>\n",
       "    .dataframe tbody tr th:only-of-type {\n",
       "        vertical-align: middle;\n",
       "    }\n",
       "\n",
       "    .dataframe tbody tr th {\n",
       "        vertical-align: top;\n",
       "    }\n",
       "\n",
       "    .dataframe thead th {\n",
       "        text-align: right;\n",
       "    }\n",
       "</style>\n",
       "<table border=\"1\" class=\"dataframe\">\n",
       "  <thead>\n",
       "    <tr style=\"text-align: right;\">\n",
       "      <th></th>\n",
       "      <th>location</th>\n",
       "      <th>size</th>\n",
       "      <th>total_sqft</th>\n",
       "      <th>bath</th>\n",
       "      <th>price</th>\n",
       "      <th>bhk</th>\n",
       "      <th>price_per_sqft</th>\n",
       "    </tr>\n",
       "  </thead>\n",
       "  <tbody>\n",
       "    <tr>\n",
       "      <th>9</th>\n",
       "      <td>other</td>\n",
       "      <td>6 Bedroom</td>\n",
       "      <td>1020.0</td>\n",
       "      <td>6.0</td>\n",
       "      <td>370.0</td>\n",
       "      <td>6</td>\n",
       "      <td>36274.509804</td>\n",
       "    </tr>\n",
       "    <tr>\n",
       "      <th>45</th>\n",
       "      <td>HSR Layout</td>\n",
       "      <td>8 Bedroom</td>\n",
       "      <td>600.0</td>\n",
       "      <td>9.0</td>\n",
       "      <td>200.0</td>\n",
       "      <td>8</td>\n",
       "      <td>33333.333333</td>\n",
       "    </tr>\n",
       "    <tr>\n",
       "      <th>58</th>\n",
       "      <td>Murugeshpalya</td>\n",
       "      <td>6 Bedroom</td>\n",
       "      <td>1407.0</td>\n",
       "      <td>4.0</td>\n",
       "      <td>150.0</td>\n",
       "      <td>6</td>\n",
       "      <td>10660.980810</td>\n",
       "    </tr>\n",
       "    <tr>\n",
       "      <th>68</th>\n",
       "      <td>Devarachikkanahalli</td>\n",
       "      <td>8 Bedroom</td>\n",
       "      <td>1350.0</td>\n",
       "      <td>7.0</td>\n",
       "      <td>85.0</td>\n",
       "      <td>8</td>\n",
       "      <td>6296.296296</td>\n",
       "    </tr>\n",
       "    <tr>\n",
       "      <th>70</th>\n",
       "      <td>other</td>\n",
       "      <td>3 Bedroom</td>\n",
       "      <td>500.0</td>\n",
       "      <td>3.0</td>\n",
       "      <td>100.0</td>\n",
       "      <td>3</td>\n",
       "      <td>20000.000000</td>\n",
       "    </tr>\n",
       "  </tbody>\n",
       "</table>\n",
       "</div>"
      ],
      "text/plain": [
       "               location       size  total_sqft  bath  price  bhk  \\\n",
       "9                 other  6 Bedroom      1020.0   6.0  370.0    6   \n",
       "45           HSR Layout  8 Bedroom       600.0   9.0  200.0    8   \n",
       "58        Murugeshpalya  6 Bedroom      1407.0   4.0  150.0    6   \n",
       "68  Devarachikkanahalli  8 Bedroom      1350.0   7.0   85.0    8   \n",
       "70                other  3 Bedroom       500.0   3.0  100.0    3   \n",
       "\n",
       "    price_per_sqft  \n",
       "9     36274.509804  \n",
       "45    33333.333333  \n",
       "58    10660.980810  \n",
       "68     6296.296296  \n",
       "70    20000.000000  "
      ]
     },
     "execution_count": 41,
     "metadata": {},
     "output_type": "execute_result"
    }
   ],
   "source": [
    "df5[df5.total_sqft/df5.bhk<300].head()"
   ]
  },
  {
   "cell_type": "code",
   "execution_count": 43,
   "metadata": {
    "id": "j6VBtqEQZwNq"
   },
   "outputs": [
    {
     "data": {
      "text/plain": [
       "(13200, 7)"
      ]
     },
     "execution_count": 43,
     "metadata": {},
     "output_type": "execute_result"
    }
   ],
   "source": [
    "df5.shape"
   ]
  },
  {
   "cell_type": "code",
   "execution_count": 45,
   "metadata": {
    "id": "ED7itY9LZwNr"
   },
   "outputs": [
    {
     "data": {
      "text/plain": [
       "count    1.320000e+04\n",
       "mean     7.920759e+03\n",
       "std      1.067272e+05\n",
       "min      2.678298e+02\n",
       "25%      4.267701e+03\n",
       "50%      5.438331e+03\n",
       "75%      7.317073e+03\n",
       "max      1.200000e+07\n",
       "Name: price_per_sqft, dtype: float64"
      ]
     },
     "execution_count": 45,
     "metadata": {},
     "output_type": "execute_result"
    }
   ],
   "source": [
    "df5.price_per_sqft.describe()"
   ]
  },
  {
   "cell_type": "markdown",
   "metadata": {
    "id": "QbkrMJQSZwNr"
   },
   "source": [
    "**Here we find that min price per sqft is 267 rs/sqft whereas max is 176470, this shows a wide variation in property prices. We should remove outliers per location using mean and one standard deviation**"
   ]
  },
  {
   "cell_type": "code",
   "execution_count": 47,
   "metadata": {
    "id": "cqEC8BVKZwNr"
   },
   "outputs": [
    {
     "data": {
      "text/plain": [
       "(11434, 7)"
      ]
     },
     "execution_count": 47,
     "metadata": {},
     "output_type": "execute_result"
    }
   ],
   "source": [
    "def remove_pps_outliers(df):\n",
    "    df_out = pd.DataFrame()\n",
    "    for key, subdf in df.groupby('location'):\n",
    "        m = np.mean(subdf.price_per_sqft)\n",
    "        st = np.std(subdf.price_per_sqft)\n",
    "        reduced_df = subdf[(subdf.price_per_sqft>(m-st)) & (subdf.price_per_sqft<=(m+st))]\n",
    "        df_out = pd.concat([df_out,reduced_df],ignore_index=True)\n",
    "    return df_out\n",
    "df6 = remove_pps_outliers(df5)\n",
    "df6.shape"
   ]
  },
  {
   "cell_type": "markdown",
   "metadata": {
    "id": "UdyBfcANZwNs"
   },
   "source": [
    "**Let's check if for a given location how does the 2 BHK and 3 BHK property prices look like**"
   ]
  },
  {
   "cell_type": "code",
   "execution_count": 49,
   "metadata": {
    "id": "QX65xZSaZwNs"
   },
   "outputs": [
    {
     "data": {
      "image/png": "[encoded data removed]",
      "text/plain": [
       "<Figure size 1500x1000 with 1 Axes>"
      ]
     },
     "metadata": {},
     "output_type": "display_data"
    }
   ],
   "source": [
    "def plot_scatter_chart(df,location):\n",
    "    bhk2 = df[(df.location==location) & (df.bhk==2)]\n",
    "    bhk3 = df[(df.location==location) & (df.bhk==3)]\n",
    "    matplotlib.rcParams['figure.figsize'] = (15,10)\n",
    "    plt.scatter(bhk2.total_sqft,bhk2.price,color='blue',label='2 BHK', s=50)\n",
    "    plt.scatter(bhk3.total_sqft,bhk3.price,marker='+', color='green',label='3 BHK', s=50)\n",
    "    plt.xlabel(\"Total Square Feet Area\")\n",
    "    plt.ylabel(\"Price (Lakh Indian Rupees)\")\n",
    "    plt.title(location)\n",
    "    plt.legend()\n",
    "    \n",
    "plot_scatter_chart(df6,\"Rajaji Nagar\")"
   ]
  },
  {
   "cell_type": "code",
   "execution_count": 51,
   "metadata": {
    "id": "iGxAAjB1ZwNs"
   },
   "outputs": [
    {
     "data": {
      "image/png": "[encoded data removed]",
      "text/plain": [
       "<Figure size 1500x1000 with 1 Axes>"
      ]
     },
     "metadata": {},
     "output_type": "display_data"
    }
   ],
   "source": [
    "plot_scatter_chart(df6,\"Hebbal\")"
   ]
  },
  {
   "cell_type": "code",
   "execution_count": 53,
   "metadata": {
    "id": "sC-3PsF1ZwNt"
   },
   "outputs": [
    {
     "data": {
      "text/plain": [
       "Text(0, 0.5, 'Count')"
      ]
     },
     "execution_count": 53,
     "metadata": {},
     "output_type": "execute_result"
    },
    {
     "data": {
      "image/png": "[encoded data removed]",
      "text/plain": [
       "<Figure size 2000x1000 with 1 Axes>"
      ]
     },
     "metadata": {},
     "output_type": "display_data"
    }
   ],
   "source": [
    "import matplotlib\n",
    "matplotlib.rcParams[\"figure.figsize\"] = (20,10)\n",
    "plt.hist(df6.price_per_sqft,rwidth=0.8)\n",
    "plt.xlabel(\"Price Per Square Feet\")\n",
    "plt.ylabel(\"Count\")"
   ]
  },
  {
   "cell_type": "markdown",
   "metadata": {
    "id": "RVAZobcwZwNt"
   },
   "source": [
    "<h2 style='color:blue'>Outlier Removal Using Bathrooms Feature</h2>"
   ]
  },
  {
   "cell_type": "code",
   "execution_count": 55,
   "metadata": {
    "id": "V2AtxKn0ZwNt"
   },
   "outputs": [
    {
     "data": {
      "text/plain": [
       "array([ 4.,  3.,  6.,  2.,  5.,  8.,  1.,  7.,  9., 10., 12., 14., 27.,\n",
       "       11., 16., 15., 13., 18.])"
      ]
     },
     "execution_count": 55,
     "metadata": {},
     "output_type": "execute_result"
    }
   ],
   "source": [
    "df6.bath.unique()"
   ]
  },
  {
   "cell_type": "code",
   "execution_count": 57,
   "metadata": {
    "id": "68LFSChUZwNt"
   },
   "outputs": [
    {
     "data": {
      "text/plain": [
       "Text(0, 0.5, 'Count')"
      ]
     },
     "execution_count": 57,
     "metadata": {},
     "output_type": "execute_result"
    },
    {
     "data": {
      "image/png": "[encoded data removed]",
      "text/plain": [
       "<Figure size 2000x1000 with 1 Axes>"
      ]
     },
     "metadata": {},
     "output_type": "display_data"
    }
   ],
   "source": [
    "plt.hist(df6.bath,rwidth=0.8)\n",
    "plt.xlabel(\"Number of bathrooms\")\n",
    "plt.ylabel(\"Count\")"
   ]
  },
  {
   "cell_type": "code",
   "execution_count": 59,
   "metadata": {
    "id": "-hYcpuQgZwNu"
   },
   "outputs": [
    {
     "data": {
      "text/html": [
       "<div>\n",
       "<style scoped>\n",
       "    .dataframe tbody tr th:only-of-type {\n",
       "        vertical-align: middle;\n",
       "    }\n",
       "\n",
       "    .dataframe tbody tr th {\n",
       "        vertical-align: top;\n",
       "    }\n",
       "\n",
       "    .dataframe thead th {\n",
       "        text-align: right;\n",
       "    }\n",
       "</style>\n",
       "<table border=\"1\" class=\"dataframe\">\n",
       "  <thead>\n",
       "    <tr style=\"text-align: right;\">\n",
       "      <th></th>\n",
       "      <th>location</th>\n",
       "      <th>size</th>\n",
       "      <th>total_sqft</th>\n",
       "      <th>bath</th>\n",
       "      <th>price</th>\n",
       "      <th>bhk</th>\n",
       "      <th>price_per_sqft</th>\n",
       "    </tr>\n",
       "  </thead>\n",
       "  <tbody>\n",
       "    <tr>\n",
       "      <th>5645</th>\n",
       "      <td>Neeladri Nagar</td>\n",
       "      <td>10 BHK</td>\n",
       "      <td>4000.0</td>\n",
       "      <td>12.0</td>\n",
       "      <td>160.0</td>\n",
       "      <td>10</td>\n",
       "      <td>4000.000000</td>\n",
       "    </tr>\n",
       "    <tr>\n",
       "      <th>8808</th>\n",
       "      <td>other</td>\n",
       "      <td>9 Bedroom</td>\n",
       "      <td>3300.0</td>\n",
       "      <td>14.0</td>\n",
       "      <td>500.0</td>\n",
       "      <td>9</td>\n",
       "      <td>15151.515152</td>\n",
       "    </tr>\n",
       "    <tr>\n",
       "      <th>8942</th>\n",
       "      <td>other</td>\n",
       "      <td>27 BHK</td>\n",
       "      <td>8000.0</td>\n",
       "      <td>27.0</td>\n",
       "      <td>230.0</td>\n",
       "      <td>27</td>\n",
       "      <td>2875.000000</td>\n",
       "    </tr>\n",
       "    <tr>\n",
       "      <th>8952</th>\n",
       "      <td>other</td>\n",
       "      <td>11 Bedroom</td>\n",
       "      <td>1200.0</td>\n",
       "      <td>11.0</td>\n",
       "      <td>170.0</td>\n",
       "      <td>11</td>\n",
       "      <td>14166.666667</td>\n",
       "    </tr>\n",
       "    <tr>\n",
       "      <th>9003</th>\n",
       "      <td>other</td>\n",
       "      <td>8 Bedroom</td>\n",
       "      <td>990.0</td>\n",
       "      <td>12.0</td>\n",
       "      <td>120.0</td>\n",
       "      <td>8</td>\n",
       "      <td>12121.212121</td>\n",
       "    </tr>\n",
       "    <tr>\n",
       "      <th>9235</th>\n",
       "      <td>other</td>\n",
       "      <td>10 BHK</td>\n",
       "      <td>12000.0</td>\n",
       "      <td>12.0</td>\n",
       "      <td>525.0</td>\n",
       "      <td>10</td>\n",
       "      <td>4375.000000</td>\n",
       "    </tr>\n",
       "    <tr>\n",
       "      <th>9291</th>\n",
       "      <td>other</td>\n",
       "      <td>19 BHK</td>\n",
       "      <td>2000.0</td>\n",
       "      <td>16.0</td>\n",
       "      <td>490.0</td>\n",
       "      <td>19</td>\n",
       "      <td>24500.000000</td>\n",
       "    </tr>\n",
       "    <tr>\n",
       "      <th>9344</th>\n",
       "      <td>other</td>\n",
       "      <td>16 BHK</td>\n",
       "      <td>10000.0</td>\n",
       "      <td>16.0</td>\n",
       "      <td>550.0</td>\n",
       "      <td>16</td>\n",
       "      <td>5500.000000</td>\n",
       "    </tr>\n",
       "    <tr>\n",
       "      <th>9629</th>\n",
       "      <td>other</td>\n",
       "      <td>14 BHK</td>\n",
       "      <td>1250.0</td>\n",
       "      <td>15.0</td>\n",
       "      <td>125.0</td>\n",
       "      <td>14</td>\n",
       "      <td>10000.000000</td>\n",
       "    </tr>\n",
       "    <tr>\n",
       "      <th>10280</th>\n",
       "      <td>other</td>\n",
       "      <td>11 BHK</td>\n",
       "      <td>6000.0</td>\n",
       "      <td>12.0</td>\n",
       "      <td>150.0</td>\n",
       "      <td>11</td>\n",
       "      <td>2500.000000</td>\n",
       "    </tr>\n",
       "    <tr>\n",
       "      <th>10308</th>\n",
       "      <td>other</td>\n",
       "      <td>8 Bedroom</td>\n",
       "      <td>1850.0</td>\n",
       "      <td>12.0</td>\n",
       "      <td>300.0</td>\n",
       "      <td>8</td>\n",
       "      <td>16216.216216</td>\n",
       "    </tr>\n",
       "    <tr>\n",
       "      <th>10684</th>\n",
       "      <td>other</td>\n",
       "      <td>13 BHK</td>\n",
       "      <td>5425.0</td>\n",
       "      <td>13.0</td>\n",
       "      <td>275.0</td>\n",
       "      <td>13</td>\n",
       "      <td>5069.124424</td>\n",
       "    </tr>\n",
       "    <tr>\n",
       "      <th>11047</th>\n",
       "      <td>other</td>\n",
       "      <td>18 Bedroom</td>\n",
       "      <td>1200.0</td>\n",
       "      <td>18.0</td>\n",
       "      <td>200.0</td>\n",
       "      <td>18</td>\n",
       "      <td>16666.666667</td>\n",
       "    </tr>\n",
       "    <tr>\n",
       "      <th>11371</th>\n",
       "      <td>other</td>\n",
       "      <td>10 Bedroom</td>\n",
       "      <td>7150.0</td>\n",
       "      <td>13.0</td>\n",
       "      <td>3600.0</td>\n",
       "      <td>10</td>\n",
       "      <td>50349.650350</td>\n",
       "    </tr>\n",
       "  </tbody>\n",
       "</table>\n",
       "</div>"
      ],
      "text/plain": [
       "             location        size  total_sqft  bath   price  bhk  \\\n",
       "5645   Neeladri Nagar      10 BHK      4000.0  12.0   160.0   10   \n",
       "8808            other   9 Bedroom      3300.0  14.0   500.0    9   \n",
       "8942            other      27 BHK      8000.0  27.0   230.0   27   \n",
       "8952            other  11 Bedroom      1200.0  11.0   170.0   11   \n",
       "9003            other   8 Bedroom       990.0  12.0   120.0    8   \n",
       "9235            other      10 BHK     12000.0  12.0   525.0   10   \n",
       "9291            other      19 BHK      2000.0  16.0   490.0   19   \n",
       "9344            other      16 BHK     10000.0  16.0   550.0   16   \n",
       "9629            other      14 BHK      1250.0  15.0   125.0   14   \n",
       "10280           other      11 BHK      6000.0  12.0   150.0   11   \n",
       "10308           other   8 Bedroom      1850.0  12.0   300.0    8   \n",
       "10684           other      13 BHK      5425.0  13.0   275.0   13   \n",
       "11047           other  18 Bedroom      1200.0  18.0   200.0   18   \n",
       "11371           other  10 Bedroom      7150.0  13.0  3600.0   10   \n",
       "\n",
       "       price_per_sqft  \n",
       "5645      4000.000000  \n",
       "8808     15151.515152  \n",
       "8942      2875.000000  \n",
       "8952     14166.666667  \n",
       "9003     12121.212121  \n",
       "9235      4375.000000  \n",
       "9291     24500.000000  \n",
       "9344      5500.000000  \n",
       "9629     10000.000000  \n",
       "10280     2500.000000  \n",
       "10308    16216.216216  \n",
       "10684     5069.124424  \n",
       "11047    16666.666667  \n",
       "11371    50349.650350  "
      ]
     },
     "execution_count": 59,
     "metadata": {},
     "output_type": "execute_result"
    }
   ],
   "source": [
    "df6[df6.bath>10]"
   ]
  },
  {
   "cell_type": "markdown",
   "metadata": {
    "id": "Bm9vzZQ6ZwNu"
   },
   "source": [
    "**It is unusual to have 2 more bathrooms than number of bedrooms in a home**"
   ]
  },
  {
   "cell_type": "code",
   "execution_count": 61,
   "metadata": {
    "id": "_tQBKMhVZwNu"
   },
   "outputs": [
    {
     "data": {
      "text/html": [
       "<div>\n",
       "<style scoped>\n",
       "    .dataframe tbody tr th:only-of-type {\n",
       "        vertical-align: middle;\n",
       "    }\n",
       "\n",
       "    .dataframe tbody tr th {\n",
       "        vertical-align: top;\n",
       "    }\n",
       "\n",
       "    .dataframe thead th {\n",
       "        text-align: right;\n",
       "    }\n",
       "</style>\n",
       "<table border=\"1\" class=\"dataframe\">\n",
       "  <thead>\n",
       "    <tr style=\"text-align: right;\">\n",
       "      <th></th>\n",
       "      <th>location</th>\n",
       "      <th>size</th>\n",
       "      <th>total_sqft</th>\n",
       "      <th>bath</th>\n",
       "      <th>price</th>\n",
       "      <th>bhk</th>\n",
       "      <th>price_per_sqft</th>\n",
       "    </tr>\n",
       "  </thead>\n",
       "  <tbody>\n",
       "    <tr>\n",
       "      <th>1635</th>\n",
       "      <td>Chamrajpet</td>\n",
       "      <td>6 Bedroom</td>\n",
       "      <td>1500.0</td>\n",
       "      <td>9.0</td>\n",
       "      <td>230.0</td>\n",
       "      <td>6</td>\n",
       "      <td>15333.333333</td>\n",
       "    </tr>\n",
       "    <tr>\n",
       "      <th>1771</th>\n",
       "      <td>Chikkabanavar</td>\n",
       "      <td>4 Bedroom</td>\n",
       "      <td>2460.0</td>\n",
       "      <td>7.0</td>\n",
       "      <td>80.0</td>\n",
       "      <td>4</td>\n",
       "      <td>3252.032520</td>\n",
       "    </tr>\n",
       "    <tr>\n",
       "      <th>5604</th>\n",
       "      <td>Nagasandra</td>\n",
       "      <td>4 Bedroom</td>\n",
       "      <td>7000.0</td>\n",
       "      <td>8.0</td>\n",
       "      <td>450.0</td>\n",
       "      <td>4</td>\n",
       "      <td>6428.571429</td>\n",
       "    </tr>\n",
       "    <tr>\n",
       "      <th>7229</th>\n",
       "      <td>Thanisandra</td>\n",
       "      <td>3 BHK</td>\n",
       "      <td>1806.0</td>\n",
       "      <td>6.0</td>\n",
       "      <td>116.0</td>\n",
       "      <td>3</td>\n",
       "      <td>6423.034330</td>\n",
       "    </tr>\n",
       "    <tr>\n",
       "      <th>8808</th>\n",
       "      <td>other</td>\n",
       "      <td>9 Bedroom</td>\n",
       "      <td>3300.0</td>\n",
       "      <td>14.0</td>\n",
       "      <td>500.0</td>\n",
       "      <td>9</td>\n",
       "      <td>15151.515152</td>\n",
       "    </tr>\n",
       "    <tr>\n",
       "      <th>9003</th>\n",
       "      <td>other</td>\n",
       "      <td>8 Bedroom</td>\n",
       "      <td>990.0</td>\n",
       "      <td>12.0</td>\n",
       "      <td>120.0</td>\n",
       "      <td>8</td>\n",
       "      <td>12121.212121</td>\n",
       "    </tr>\n",
       "    <tr>\n",
       "      <th>9146</th>\n",
       "      <td>other</td>\n",
       "      <td>6 BHK</td>\n",
       "      <td>11338.0</td>\n",
       "      <td>9.0</td>\n",
       "      <td>1000.0</td>\n",
       "      <td>6</td>\n",
       "      <td>8819.897689</td>\n",
       "    </tr>\n",
       "    <tr>\n",
       "      <th>10308</th>\n",
       "      <td>other</td>\n",
       "      <td>8 Bedroom</td>\n",
       "      <td>1850.0</td>\n",
       "      <td>12.0</td>\n",
       "      <td>300.0</td>\n",
       "      <td>8</td>\n",
       "      <td>16216.216216</td>\n",
       "    </tr>\n",
       "    <tr>\n",
       "      <th>10693</th>\n",
       "      <td>other</td>\n",
       "      <td>3 Bedroom</td>\n",
       "      <td>2400.0</td>\n",
       "      <td>6.0</td>\n",
       "      <td>775.0</td>\n",
       "      <td>3</td>\n",
       "      <td>32291.666667</td>\n",
       "    </tr>\n",
       "    <tr>\n",
       "      <th>10700</th>\n",
       "      <td>other</td>\n",
       "      <td>6 Bedroom</td>\n",
       "      <td>1200.0</td>\n",
       "      <td>9.0</td>\n",
       "      <td>122.0</td>\n",
       "      <td>6</td>\n",
       "      <td>10166.666667</td>\n",
       "    </tr>\n",
       "    <tr>\n",
       "      <th>11371</th>\n",
       "      <td>other</td>\n",
       "      <td>10 Bedroom</td>\n",
       "      <td>7150.0</td>\n",
       "      <td>13.0</td>\n",
       "      <td>3600.0</td>\n",
       "      <td>10</td>\n",
       "      <td>50349.650350</td>\n",
       "    </tr>\n",
       "  </tbody>\n",
       "</table>\n",
       "</div>"
      ],
      "text/plain": [
       "            location        size  total_sqft  bath   price  bhk  \\\n",
       "1635      Chamrajpet   6 Bedroom      1500.0   9.0   230.0    6   \n",
       "1771   Chikkabanavar   4 Bedroom      2460.0   7.0    80.0    4   \n",
       "5604      Nagasandra   4 Bedroom      7000.0   8.0   450.0    4   \n",
       "7229     Thanisandra       3 BHK      1806.0   6.0   116.0    3   \n",
       "8808           other   9 Bedroom      3300.0  14.0   500.0    9   \n",
       "9003           other   8 Bedroom       990.0  12.0   120.0    8   \n",
       "9146           other       6 BHK     11338.0   9.0  1000.0    6   \n",
       "10308          other   8 Bedroom      1850.0  12.0   300.0    8   \n",
       "10693          other   3 Bedroom      2400.0   6.0   775.0    3   \n",
       "10700          other   6 Bedroom      1200.0   9.0   122.0    6   \n",
       "11371          other  10 Bedroom      7150.0  13.0  3600.0   10   \n",
       "\n",
       "       price_per_sqft  \n",
       "1635     15333.333333  \n",
       "1771      3252.032520  \n",
       "5604      6428.571429  \n",
       "7229      6423.034330  \n",
       "8808     15151.515152  \n",
       "9003     12121.212121  \n",
       "9146      8819.897689  \n",
       "10308    16216.216216  \n",
       "10693    32291.666667  \n",
       "10700    10166.666667  \n",
       "11371    50349.650350  "
      ]
     },
     "execution_count": 61,
     "metadata": {},
     "output_type": "execute_result"
    }
   ],
   "source": [
    "df6[df6.bath>df6.bhk+2]"
   ]
  },
  {
   "cell_type": "code",
   "execution_count": 63,
   "metadata": {
    "id": "NssuHz35ZwNu"
   },
   "outputs": [
    {
     "data": {
      "text/plain": [
       "(11307, 7)"
      ]
     },
     "execution_count": 63,
     "metadata": {},
     "output_type": "execute_result"
    }
   ],
   "source": [
    "df7 = df6[df6.bath<df6.bhk+2]\n",
    "df7.shape"
   ]
  },
  {
   "cell_type": "code",
   "execution_count": 65,
   "metadata": {
    "id": "Fpa9HW81ZwNu",
    "scrolled": true
   },
   "outputs": [
    {
     "data": {
      "text/html": [
       "<div>\n",
       "<style scoped>\n",
       "    .dataframe tbody tr th:only-of-type {\n",
       "        vertical-align: middle;\n",
       "    }\n",
       "\n",
       "    .dataframe tbody tr th {\n",
       "        vertical-align: top;\n",
       "    }\n",
       "\n",
       "    .dataframe thead th {\n",
       "        text-align: right;\n",
       "    }\n",
       "</style>\n",
       "<table border=\"1\" class=\"dataframe\">\n",
       "  <thead>\n",
       "    <tr style=\"text-align: right;\">\n",
       "      <th></th>\n",
       "      <th>location</th>\n",
       "      <th>total_sqft</th>\n",
       "      <th>bath</th>\n",
       "      <th>price</th>\n",
       "      <th>bhk</th>\n",
       "    </tr>\n",
       "  </thead>\n",
       "  <tbody>\n",
       "    <tr>\n",
       "      <th>0</th>\n",
       "      <td>1st Block Jayanagar</td>\n",
       "      <td>2850.0</td>\n",
       "      <td>4.0</td>\n",
       "      <td>428.0</td>\n",
       "      <td>4</td>\n",
       "    </tr>\n",
       "    <tr>\n",
       "      <th>1</th>\n",
       "      <td>1st Block Jayanagar</td>\n",
       "      <td>1630.0</td>\n",
       "      <td>3.0</td>\n",
       "      <td>194.0</td>\n",
       "      <td>3</td>\n",
       "    </tr>\n",
       "    <tr>\n",
       "      <th>2</th>\n",
       "      <td>1st Block Jayanagar</td>\n",
       "      <td>1200.0</td>\n",
       "      <td>6.0</td>\n",
       "      <td>125.0</td>\n",
       "      <td>6</td>\n",
       "    </tr>\n",
       "  </tbody>\n",
       "</table>\n",
       "</div>"
      ],
      "text/plain": [
       "              location  total_sqft  bath  price  bhk\n",
       "0  1st Block Jayanagar      2850.0   4.0  428.0    4\n",
       "1  1st Block Jayanagar      1630.0   3.0  194.0    3\n",
       "2  1st Block Jayanagar      1200.0   6.0  125.0    6"
      ]
     },
     "execution_count": 65,
     "metadata": {},
     "output_type": "execute_result"
    }
   ],
   "source": [
    "df8 = df7.drop(['size','price_per_sqft'],axis='columns')\n",
    "df8.head(3)"
   ]
  },
  {
   "cell_type": "markdown",
   "metadata": {
    "id": "s_tgYWlwZwNv"
   },
   "source": [
    "<h2 style='color:blue'>Use One Hot Encoding For Location</h2>"
   ]
  },
  {
   "cell_type": "code",
   "execution_count": 67,
   "metadata": {
    "id": "UzbhlbvqZwNv"
   },
   "outputs": [
    {
     "data": {
      "text/html": [
       "<div>\n",
       "<style scoped>\n",
       "    .dataframe tbody tr th:only-of-type {\n",
       "        vertical-align: middle;\n",
       "    }\n",
       "\n",
       "    .dataframe tbody tr th {\n",
       "        vertical-align: top;\n",
       "    }\n",
       "\n",
       "    .dataframe thead th {\n",
       "        text-align: right;\n",
       "    }\n",
       "</style>\n",
       "<table border=\"1\" class=\"dataframe\">\n",
       "  <thead>\n",
       "    <tr style=\"text-align: right;\">\n",
       "      <th></th>\n",
       "      <th>1st Block Jayanagar</th>\n",
       "      <th>1st Phase JP Nagar</th>\n",
       "      <th>2nd Phase Judicial Layout</th>\n",
       "      <th>2nd Stage Nagarbhavi</th>\n",
       "      <th>5th Block Hbr Layout</th>\n",
       "      <th>5th Phase JP Nagar</th>\n",
       "      <th>6th Phase JP Nagar</th>\n",
       "      <th>7th Phase JP Nagar</th>\n",
       "      <th>8th Phase JP Nagar</th>\n",
       "      <th>9th Phase JP Nagar</th>\n",
       "      <th>...</th>\n",
       "      <th>Vishveshwarya Layout</th>\n",
       "      <th>Vishwapriya Layout</th>\n",
       "      <th>Vittasandra</th>\n",
       "      <th>Whitefield</th>\n",
       "      <th>Yelachenahalli</th>\n",
       "      <th>Yelahanka</th>\n",
       "      <th>Yelahanka New Town</th>\n",
       "      <th>Yelenahalli</th>\n",
       "      <th>Yeshwanthpur</th>\n",
       "      <th>other</th>\n",
       "    </tr>\n",
       "  </thead>\n",
       "  <tbody>\n",
       "    <tr>\n",
       "      <th>0</th>\n",
       "      <td>True</td>\n",
       "      <td>False</td>\n",
       "      <td>False</td>\n",
       "      <td>False</td>\n",
       "      <td>False</td>\n",
       "      <td>False</td>\n",
       "      <td>False</td>\n",
       "      <td>False</td>\n",
       "      <td>False</td>\n",
       "      <td>False</td>\n",
       "      <td>...</td>\n",
       "      <td>False</td>\n",
       "      <td>False</td>\n",
       "      <td>False</td>\n",
       "      <td>False</td>\n",
       "      <td>False</td>\n",
       "      <td>False</td>\n",
       "      <td>False</td>\n",
       "      <td>False</td>\n",
       "      <td>False</td>\n",
       "      <td>False</td>\n",
       "    </tr>\n",
       "    <tr>\n",
       "      <th>1</th>\n",
       "      <td>True</td>\n",
       "      <td>False</td>\n",
       "      <td>False</td>\n",
       "      <td>False</td>\n",
       "      <td>False</td>\n",
       "      <td>False</td>\n",
       "      <td>False</td>\n",
       "      <td>False</td>\n",
       "      <td>False</td>\n",
       "      <td>False</td>\n",
       "      <td>...</td>\n",
       "      <td>False</td>\n",
       "      <td>False</td>\n",
       "      <td>False</td>\n",
       "      <td>False</td>\n",
       "      <td>False</td>\n",
       "      <td>False</td>\n",
       "      <td>False</td>\n",
       "      <td>False</td>\n",
       "      <td>False</td>\n",
       "      <td>False</td>\n",
       "    </tr>\n",
       "    <tr>\n",
       "      <th>2</th>\n",
       "      <td>True</td>\n",
       "      <td>False</td>\n",
       "      <td>False</td>\n",
       "      <td>False</td>\n",
       "      <td>False</td>\n",
       "      <td>False</td>\n",
       "      <td>False</td>\n",
       "      <td>False</td>\n",
       "      <td>False</td>\n",
       "      <td>False</td>\n",
       "      <td>...</td>\n",
       "      <td>False</td>\n",
       "      <td>False</td>\n",
       "      <td>False</td>\n",
       "      <td>False</td>\n",
       "      <td>False</td>\n",
       "      <td>False</td>\n",
       "      <td>False</td>\n",
       "      <td>False</td>\n",
       "      <td>False</td>\n",
       "      <td>False</td>\n",
       "    </tr>\n",
       "  </tbody>\n",
       "</table>\n",
       "<p>3 rows × 241 columns</p>\n",
       "</div>"
      ],
      "text/plain": [
       "   1st Block Jayanagar  1st Phase JP Nagar  2nd Phase Judicial Layout  \\\n",
       "0                 True               False                      False   \n",
       "1                 True               False                      False   \n",
       "2                 True               False                      False   \n",
       "\n",
       "   2nd Stage Nagarbhavi  5th Block Hbr Layout  5th Phase JP Nagar  \\\n",
       "0                 False                 False               False   \n",
       "1                 False                 False               False   \n",
       "2                 False                 False               False   \n",
       "\n",
       "   6th Phase JP Nagar  7th Phase JP Nagar  8th Phase JP Nagar  \\\n",
       "0               False               False               False   \n",
       "1               False               False               False   \n",
       "2               False               False               False   \n",
       "\n",
       "   9th Phase JP Nagar  ...  Vishveshwarya Layout  Vishwapriya Layout  \\\n",
       "0               False  ...                 False               False   \n",
       "1               False  ...                 False               False   \n",
       "2               False  ...                 False               False   \n",
       "\n",
       "   Vittasandra  Whitefield  Yelachenahalli  Yelahanka  Yelahanka New Town  \\\n",
       "0        False       False           False      False               False   \n",
       "1        False       False           False      False               False   \n",
       "2        False       False           False      False               False   \n",
       "\n",
       "   Yelenahalli  Yeshwanthpur  other  \n",
       "0        False         False  False  \n",
       "1        False         False  False  \n",
       "2        False         False  False  \n",
       "\n",
       "[3 rows x 241 columns]"
      ]
     },
     "execution_count": 67,
     "metadata": {},
     "output_type": "execute_result"
    }
   ],
   "source": [
    "dummies = pd.get_dummies(df8.location)\n",
    "dummies.head(3)"
   ]
  },
  {
   "cell_type": "code",
   "execution_count": 69,
   "metadata": {
    "id": "3IMaR6yTZwNv"
   },
   "outputs": [
    {
     "data": {
      "text/html": [
       "<div>\n",
       "<style scoped>\n",
       "    .dataframe tbody tr th:only-of-type {\n",
       "        vertical-align: middle;\n",
       "    }\n",
       "\n",
       "    .dataframe tbody tr th {\n",
       "        vertical-align: top;\n",
       "    }\n",
       "\n",
       "    .dataframe thead th {\n",
       "        text-align: right;\n",
       "    }\n",
       "</style>\n",
       "<table border=\"1\" class=\"dataframe\">\n",
       "  <thead>\n",
       "    <tr style=\"text-align: right;\">\n",
       "      <th></th>\n",
       "      <th>location</th>\n",
       "      <th>total_sqft</th>\n",
       "      <th>bath</th>\n",
       "      <th>price</th>\n",
       "      <th>bhk</th>\n",
       "      <th>1st Block Jayanagar</th>\n",
       "      <th>1st Phase JP Nagar</th>\n",
       "      <th>2nd Phase Judicial Layout</th>\n",
       "      <th>2nd Stage Nagarbhavi</th>\n",
       "      <th>5th Block Hbr Layout</th>\n",
       "      <th>...</th>\n",
       "      <th>Vijayanagar</th>\n",
       "      <th>Vishveshwarya Layout</th>\n",
       "      <th>Vishwapriya Layout</th>\n",
       "      <th>Vittasandra</th>\n",
       "      <th>Whitefield</th>\n",
       "      <th>Yelachenahalli</th>\n",
       "      <th>Yelahanka</th>\n",
       "      <th>Yelahanka New Town</th>\n",
       "      <th>Yelenahalli</th>\n",
       "      <th>Yeshwanthpur</th>\n",
       "    </tr>\n",
       "  </thead>\n",
       "  <tbody>\n",
       "    <tr>\n",
       "      <th>0</th>\n",
       "      <td>1st Block Jayanagar</td>\n",
       "      <td>2850.0</td>\n",
       "      <td>4.0</td>\n",
       "      <td>428.0</td>\n",
       "      <td>4</td>\n",
       "      <td>True</td>\n",
       "      <td>False</td>\n",
       "      <td>False</td>\n",
       "      <td>False</td>\n",
       "      <td>False</td>\n",
       "      <td>...</td>\n",
       "      <td>False</td>\n",
       "      <td>False</td>\n",
       "      <td>False</td>\n",
       "      <td>False</td>\n",
       "      <td>False</td>\n",
       "      <td>False</td>\n",
       "      <td>False</td>\n",
       "      <td>False</td>\n",
       "      <td>False</td>\n",
       "      <td>False</td>\n",
       "    </tr>\n",
       "    <tr>\n",
       "      <th>1</th>\n",
       "      <td>1st Block Jayanagar</td>\n",
       "      <td>1630.0</td>\n",
       "      <td>3.0</td>\n",
       "      <td>194.0</td>\n",
       "      <td>3</td>\n",
       "      <td>True</td>\n",
       "      <td>False</td>\n",
       "      <td>False</td>\n",
       "      <td>False</td>\n",
       "      <td>False</td>\n",
       "      <td>...</td>\n",
       "      <td>False</td>\n",
       "      <td>False</td>\n",
       "      <td>False</td>\n",
       "      <td>False</td>\n",
       "      <td>False</td>\n",
       "      <td>False</td>\n",
       "      <td>False</td>\n",
       "      <td>False</td>\n",
       "      <td>False</td>\n",
       "      <td>False</td>\n",
       "    </tr>\n",
       "    <tr>\n",
       "      <th>2</th>\n",
       "      <td>1st Block Jayanagar</td>\n",
       "      <td>1200.0</td>\n",
       "      <td>6.0</td>\n",
       "      <td>125.0</td>\n",
       "      <td>6</td>\n",
       "      <td>True</td>\n",
       "      <td>False</td>\n",
       "      <td>False</td>\n",
       "      <td>False</td>\n",
       "      <td>False</td>\n",
       "      <td>...</td>\n",
       "      <td>False</td>\n",
       "      <td>False</td>\n",
       "      <td>False</td>\n",
       "      <td>False</td>\n",
       "      <td>False</td>\n",
       "      <td>False</td>\n",
       "      <td>False</td>\n",
       "      <td>False</td>\n",
       "      <td>False</td>\n",
       "      <td>False</td>\n",
       "    </tr>\n",
       "    <tr>\n",
       "      <th>3</th>\n",
       "      <td>1st Block Jayanagar</td>\n",
       "      <td>1875.0</td>\n",
       "      <td>2.0</td>\n",
       "      <td>235.0</td>\n",
       "      <td>3</td>\n",
       "      <td>True</td>\n",
       "      <td>False</td>\n",
       "      <td>False</td>\n",
       "      <td>False</td>\n",
       "      <td>False</td>\n",
       "      <td>...</td>\n",
       "      <td>False</td>\n",
       "      <td>False</td>\n",
       "      <td>False</td>\n",
       "      <td>False</td>\n",
       "      <td>False</td>\n",
       "      <td>False</td>\n",
       "      <td>False</td>\n",
       "      <td>False</td>\n",
       "      <td>False</td>\n",
       "      <td>False</td>\n",
       "    </tr>\n",
       "    <tr>\n",
       "      <th>4</th>\n",
       "      <td>1st Block Jayanagar</td>\n",
       "      <td>930.0</td>\n",
       "      <td>4.0</td>\n",
       "      <td>85.0</td>\n",
       "      <td>7</td>\n",
       "      <td>True</td>\n",
       "      <td>False</td>\n",
       "      <td>False</td>\n",
       "      <td>False</td>\n",
       "      <td>False</td>\n",
       "      <td>...</td>\n",
       "      <td>False</td>\n",
       "      <td>False</td>\n",
       "      <td>False</td>\n",
       "      <td>False</td>\n",
       "      <td>False</td>\n",
       "      <td>False</td>\n",
       "      <td>False</td>\n",
       "      <td>False</td>\n",
       "      <td>False</td>\n",
       "      <td>False</td>\n",
       "    </tr>\n",
       "  </tbody>\n",
       "</table>\n",
       "<p>5 rows × 245 columns</p>\n",
       "</div>"
      ],
      "text/plain": [
       "              location  total_sqft  bath  price  bhk  1st Block Jayanagar  \\\n",
       "0  1st Block Jayanagar      2850.0   4.0  428.0    4                 True   \n",
       "1  1st Block Jayanagar      1630.0   3.0  194.0    3                 True   \n",
       "2  1st Block Jayanagar      1200.0   6.0  125.0    6                 True   \n",
       "3  1st Block Jayanagar      1875.0   2.0  235.0    3                 True   \n",
       "4  1st Block Jayanagar       930.0   4.0   85.0    7                 True   \n",
       "\n",
       "   1st Phase JP Nagar  2nd Phase Judicial Layout  2nd Stage Nagarbhavi  \\\n",
       "0               False                      False                 False   \n",
       "1               False                      False                 False   \n",
       "2               False                      False                 False   \n",
       "3               False                      False                 False   \n",
       "4               False                      False                 False   \n",
       "\n",
       "   5th Block Hbr Layout  ...  Vijayanagar  Vishveshwarya Layout  \\\n",
       "0                 False  ...        False                 False   \n",
       "1                 False  ...        False                 False   \n",
       "2                 False  ...        False                 False   \n",
       "3                 False  ...        False                 False   \n",
       "4                 False  ...        False                 False   \n",
       "\n",
       "   Vishwapriya Layout  Vittasandra  Whitefield  Yelachenahalli  Yelahanka  \\\n",
       "0               False        False       False           False      False   \n",
       "1               False        False       False           False      False   \n",
       "2               False        False       False           False      False   \n",
       "3               False        False       False           False      False   \n",
       "4               False        False       False           False      False   \n",
       "\n",
       "   Yelahanka New Town  Yelenahalli  Yeshwanthpur  \n",
       "0               False        False         False  \n",
       "1               False        False         False  \n",
       "2               False        False         False  \n",
       "3               False        False         False  \n",
       "4               False        False         False  \n",
       "\n",
       "[5 rows x 245 columns]"
      ]
     },
     "execution_count": 69,
     "metadata": {},
     "output_type": "execute_result"
    }
   ],
   "source": [
    "df9 = pd.concat([df8,dummies.drop('other',axis='columns')],axis='columns')\n",
    "df9.head()"
   ]
  },
  {
   "cell_type": "code",
   "execution_count": 71,
   "metadata": {
    "id": "Kls1OindZwNv"
   },
   "outputs": [],
   "source": [
    "df10 = df9.drop('location',axis='columns')"
   ]
  },
  {
   "cell_type": "code",
   "execution_count": 73,
   "metadata": {
    "id": "41pjAA9aVgHb"
   },
   "outputs": [
    {
     "data": {
      "text/html": [
       "<div>\n",
       "<style scoped>\n",
       "    .dataframe tbody tr th:only-of-type {\n",
       "        vertical-align: middle;\n",
       "    }\n",
       "\n",
       "    .dataframe tbody tr th {\n",
       "        vertical-align: top;\n",
       "    }\n",
       "\n",
       "    .dataframe thead th {\n",
       "        text-align: right;\n",
       "    }\n",
       "</style>\n",
       "<table border=\"1\" class=\"dataframe\">\n",
       "  <thead>\n",
       "    <tr style=\"text-align: right;\">\n",
       "      <th></th>\n",
       "      <th>total_sqft</th>\n",
       "      <th>bath</th>\n",
       "      <th>price</th>\n",
       "      <th>bhk</th>\n",
       "      <th>1st Block Jayanagar</th>\n",
       "      <th>1st Phase JP Nagar</th>\n",
       "      <th>2nd Phase Judicial Layout</th>\n",
       "      <th>2nd Stage Nagarbhavi</th>\n",
       "      <th>5th Block Hbr Layout</th>\n",
       "      <th>5th Phase JP Nagar</th>\n",
       "      <th>...</th>\n",
       "      <th>Vijayanagar</th>\n",
       "      <th>Vishveshwarya Layout</th>\n",
       "      <th>Vishwapriya Layout</th>\n",
       "      <th>Vittasandra</th>\n",
       "      <th>Whitefield</th>\n",
       "      <th>Yelachenahalli</th>\n",
       "      <th>Yelahanka</th>\n",
       "      <th>Yelahanka New Town</th>\n",
       "      <th>Yelenahalli</th>\n",
       "      <th>Yeshwanthpur</th>\n",
       "    </tr>\n",
       "  </thead>\n",
       "  <tbody>\n",
       "    <tr>\n",
       "      <th>0</th>\n",
       "      <td>2850.0</td>\n",
       "      <td>4.0</td>\n",
       "      <td>428.00</td>\n",
       "      <td>4</td>\n",
       "      <td>True</td>\n",
       "      <td>False</td>\n",
       "      <td>False</td>\n",
       "      <td>False</td>\n",
       "      <td>False</td>\n",
       "      <td>False</td>\n",
       "      <td>...</td>\n",
       "      <td>False</td>\n",
       "      <td>False</td>\n",
       "      <td>False</td>\n",
       "      <td>False</td>\n",
       "      <td>False</td>\n",
       "      <td>False</td>\n",
       "      <td>False</td>\n",
       "      <td>False</td>\n",
       "      <td>False</td>\n",
       "      <td>False</td>\n",
       "    </tr>\n",
       "    <tr>\n",
       "      <th>1</th>\n",
       "      <td>1630.0</td>\n",
       "      <td>3.0</td>\n",
       "      <td>194.00</td>\n",
       "      <td>3</td>\n",
       "      <td>True</td>\n",
       "      <td>False</td>\n",
       "      <td>False</td>\n",
       "      <td>False</td>\n",
       "      <td>False</td>\n",
       "      <td>False</td>\n",
       "      <td>...</td>\n",
       "      <td>False</td>\n",
       "      <td>False</td>\n",
       "      <td>False</td>\n",
       "      <td>False</td>\n",
       "      <td>False</td>\n",
       "      <td>False</td>\n",
       "      <td>False</td>\n",
       "      <td>False</td>\n",
       "      <td>False</td>\n",
       "      <td>False</td>\n",
       "    </tr>\n",
       "    <tr>\n",
       "      <th>2</th>\n",
       "      <td>1200.0</td>\n",
       "      <td>6.0</td>\n",
       "      <td>125.00</td>\n",
       "      <td>6</td>\n",
       "      <td>True</td>\n",
       "      <td>False</td>\n",
       "      <td>False</td>\n",
       "      <td>False</td>\n",
       "      <td>False</td>\n",
       "      <td>False</td>\n",
       "      <td>...</td>\n",
       "      <td>False</td>\n",
       "      <td>False</td>\n",
       "      <td>False</td>\n",
       "      <td>False</td>\n",
       "      <td>False</td>\n",
       "      <td>False</td>\n",
       "      <td>False</td>\n",
       "      <td>False</td>\n",
       "      <td>False</td>\n",
       "      <td>False</td>\n",
       "    </tr>\n",
       "    <tr>\n",
       "      <th>3</th>\n",
       "      <td>1875.0</td>\n",
       "      <td>2.0</td>\n",
       "      <td>235.00</td>\n",
       "      <td>3</td>\n",
       "      <td>True</td>\n",
       "      <td>False</td>\n",
       "      <td>False</td>\n",
       "      <td>False</td>\n",
       "      <td>False</td>\n",
       "      <td>False</td>\n",
       "      <td>...</td>\n",
       "      <td>False</td>\n",
       "      <td>False</td>\n",
       "      <td>False</td>\n",
       "      <td>False</td>\n",
       "      <td>False</td>\n",
       "      <td>False</td>\n",
       "      <td>False</td>\n",
       "      <td>False</td>\n",
       "      <td>False</td>\n",
       "      <td>False</td>\n",
       "    </tr>\n",
       "    <tr>\n",
       "      <th>4</th>\n",
       "      <td>930.0</td>\n",
       "      <td>4.0</td>\n",
       "      <td>85.00</td>\n",
       "      <td>7</td>\n",
       "      <td>True</td>\n",
       "      <td>False</td>\n",
       "      <td>False</td>\n",
       "      <td>False</td>\n",
       "      <td>False</td>\n",
       "      <td>False</td>\n",
       "      <td>...</td>\n",
       "      <td>False</td>\n",
       "      <td>False</td>\n",
       "      <td>False</td>\n",
       "      <td>False</td>\n",
       "      <td>False</td>\n",
       "      <td>False</td>\n",
       "      <td>False</td>\n",
       "      <td>False</td>\n",
       "      <td>False</td>\n",
       "      <td>False</td>\n",
       "    </tr>\n",
       "    <tr>\n",
       "      <th>...</th>\n",
       "      <td>...</td>\n",
       "      <td>...</td>\n",
       "      <td>...</td>\n",
       "      <td>...</td>\n",
       "      <td>...</td>\n",
       "      <td>...</td>\n",
       "      <td>...</td>\n",
       "      <td>...</td>\n",
       "      <td>...</td>\n",
       "      <td>...</td>\n",
       "      <td>...</td>\n",
       "      <td>...</td>\n",
       "      <td>...</td>\n",
       "      <td>...</td>\n",
       "      <td>...</td>\n",
       "      <td>...</td>\n",
       "      <td>...</td>\n",
       "      <td>...</td>\n",
       "      <td>...</td>\n",
       "      <td>...</td>\n",
       "      <td>...</td>\n",
       "    </tr>\n",
       "    <tr>\n",
       "      <th>11429</th>\n",
       "      <td>812.0</td>\n",
       "      <td>1.0</td>\n",
       "      <td>26.00</td>\n",
       "      <td>1</td>\n",
       "      <td>False</td>\n",
       "      <td>False</td>\n",
       "      <td>False</td>\n",
       "      <td>False</td>\n",
       "      <td>False</td>\n",
       "      <td>False</td>\n",
       "      <td>...</td>\n",
       "      <td>False</td>\n",
       "      <td>False</td>\n",
       "      <td>False</td>\n",
       "      <td>False</td>\n",
       "      <td>False</td>\n",
       "      <td>False</td>\n",
       "      <td>False</td>\n",
       "      <td>False</td>\n",
       "      <td>False</td>\n",
       "      <td>False</td>\n",
       "    </tr>\n",
       "    <tr>\n",
       "      <th>11430</th>\n",
       "      <td>1440.0</td>\n",
       "      <td>2.0</td>\n",
       "      <td>63.93</td>\n",
       "      <td>3</td>\n",
       "      <td>False</td>\n",
       "      <td>False</td>\n",
       "      <td>False</td>\n",
       "      <td>False</td>\n",
       "      <td>False</td>\n",
       "      <td>False</td>\n",
       "      <td>...</td>\n",
       "      <td>False</td>\n",
       "      <td>False</td>\n",
       "      <td>False</td>\n",
       "      <td>False</td>\n",
       "      <td>False</td>\n",
       "      <td>False</td>\n",
       "      <td>False</td>\n",
       "      <td>False</td>\n",
       "      <td>False</td>\n",
       "      <td>False</td>\n",
       "    </tr>\n",
       "    <tr>\n",
       "      <th>11431</th>\n",
       "      <td>1075.0</td>\n",
       "      <td>2.0</td>\n",
       "      <td>48.00</td>\n",
       "      <td>2</td>\n",
       "      <td>False</td>\n",
       "      <td>False</td>\n",
       "      <td>False</td>\n",
       "      <td>False</td>\n",
       "      <td>False</td>\n",
       "      <td>False</td>\n",
       "      <td>...</td>\n",
       "      <td>False</td>\n",
       "      <td>False</td>\n",
       "      <td>False</td>\n",
       "      <td>False</td>\n",
       "      <td>False</td>\n",
       "      <td>False</td>\n",
       "      <td>False</td>\n",
       "      <td>False</td>\n",
       "      <td>False</td>\n",
       "      <td>False</td>\n",
       "    </tr>\n",
       "    <tr>\n",
       "      <th>11432</th>\n",
       "      <td>1200.0</td>\n",
       "      <td>5.0</td>\n",
       "      <td>325.00</td>\n",
       "      <td>4</td>\n",
       "      <td>False</td>\n",
       "      <td>False</td>\n",
       "      <td>False</td>\n",
       "      <td>False</td>\n",
       "      <td>False</td>\n",
       "      <td>False</td>\n",
       "      <td>...</td>\n",
       "      <td>False</td>\n",
       "      <td>False</td>\n",
       "      <td>False</td>\n",
       "      <td>False</td>\n",
       "      <td>False</td>\n",
       "      <td>False</td>\n",
       "      <td>False</td>\n",
       "      <td>False</td>\n",
       "      <td>False</td>\n",
       "      <td>False</td>\n",
       "    </tr>\n",
       "    <tr>\n",
       "      <th>11433</th>\n",
       "      <td>3600.0</td>\n",
       "      <td>5.0</td>\n",
       "      <td>400.00</td>\n",
       "      <td>4</td>\n",
       "      <td>False</td>\n",
       "      <td>False</td>\n",
       "      <td>False</td>\n",
       "      <td>False</td>\n",
       "      <td>False</td>\n",
       "      <td>False</td>\n",
       "      <td>...</td>\n",
       "      <td>False</td>\n",
       "      <td>False</td>\n",
       "      <td>False</td>\n",
       "      <td>False</td>\n",
       "      <td>False</td>\n",
       "      <td>False</td>\n",
       "      <td>False</td>\n",
       "      <td>False</td>\n",
       "      <td>False</td>\n",
       "      <td>False</td>\n",
       "    </tr>\n",
       "  </tbody>\n",
       "</table>\n",
       "<p>11307 rows × 244 columns</p>\n",
       "</div>"
      ],
      "text/plain": [
       "       total_sqft  bath   price  bhk  1st Block Jayanagar  1st Phase JP Nagar  \\\n",
       "0          2850.0   4.0  428.00    4                 True               False   \n",
       "1          1630.0   3.0  194.00    3                 True               False   \n",
       "2          1200.0   6.0  125.00    6                 True               False   \n",
       "3          1875.0   2.0  235.00    3                 True               False   \n",
       "4           930.0   4.0   85.00    7                 True               False   \n",
       "...           ...   ...     ...  ...                  ...                 ...   \n",
       "11429       812.0   1.0   26.00    1                False               False   \n",
       "11430      1440.0   2.0   63.93    3                False               False   \n",
       "11431      1075.0   2.0   48.00    2                False               False   \n",
       "11432      1200.0   5.0  325.00    4                False               False   \n",
       "11433      3600.0   5.0  400.00    4                False               False   \n",
       "\n",
       "       2nd Phase Judicial Layout  2nd Stage Nagarbhavi  5th Block Hbr Layout  \\\n",
       "0                          False                 False                 False   \n",
       "1                          False                 False                 False   \n",
       "2                          False                 False                 False   \n",
       "3                          False                 False                 False   \n",
       "4                          False                 False                 False   \n",
       "...                          ...                   ...                   ...   \n",
       "11429                      False                 False                 False   \n",
       "11430                      False                 False                 False   \n",
       "11431                      False                 False                 False   \n",
       "11432                      False                 False                 False   \n",
       "11433                      False                 False                 False   \n",
       "\n",
       "       5th Phase JP Nagar  ...  Vijayanagar  Vishveshwarya Layout  \\\n",
       "0                   False  ...        False                 False   \n",
       "1                   False  ...        False                 False   \n",
       "2                   False  ...        False                 False   \n",
       "3                   False  ...        False                 False   \n",
       "4                   False  ...        False                 False   \n",
       "...                   ...  ...          ...                   ...   \n",
       "11429               False  ...        False                 False   \n",
       "11430               False  ...        False                 False   \n",
       "11431               False  ...        False                 False   \n",
       "11432               False  ...        False                 False   \n",
       "11433               False  ...        False                 False   \n",
       "\n",
       "       Vishwapriya Layout  Vittasandra  Whitefield  Yelachenahalli  Yelahanka  \\\n",
       "0                   False        False       False           False      False   \n",
       "1                   False        False       False           False      False   \n",
       "2                   False        False       False           False      False   \n",
       "3                   False        False       False           False      False   \n",
       "4                   False        False       False           False      False   \n",
       "...                   ...          ...         ...             ...        ...   \n",
       "11429               False        False       False           False      False   \n",
       "11430               False        False       False           False      False   \n",
       "11431               False        False       False           False      False   \n",
       "11432               False        False       False           False      False   \n",
       "11433               False        False       False           False      False   \n",
       "\n",
       "       Yelahanka New Town  Yelenahalli  Yeshwanthpur  \n",
       "0                   False        False         False  \n",
       "1                   False        False         False  \n",
       "2                   False        False         False  \n",
       "3                   False        False         False  \n",
       "4                   False        False         False  \n",
       "...                   ...          ...           ...  \n",
       "11429               False        False         False  \n",
       "11430               False        False         False  \n",
       "11431               False        False         False  \n",
       "11432               False        False         False  \n",
       "11433               False        False         False  \n",
       "\n",
       "[11307 rows x 244 columns]"
      ]
     },
     "execution_count": 73,
     "metadata": {},
     "output_type": "execute_result"
    }
   ],
   "source": [
    "df10"
   ]
  },
  {
   "cell_type": "markdown",
   "metadata": {
    "id": "KsjgyAGQZwNw"
   },
   "source": [
    "<h2 style='color:blue'>Build a Model Now...</h2>"
   ]
  },
  {
   "cell_type": "code",
   "execution_count": 75,
   "metadata": {
    "id": "o4yeZK46ZwNw",
    "scrolled": true
   },
   "outputs": [],
   "source": [
    "X = df10.drop(['price'],axis='columns')\n",
    "y = df10.price"
   ]
  },
  {
   "cell_type": "code",
   "execution_count": 77,
   "metadata": {
    "id": "zroMcUj1ZwNw"
   },
   "outputs": [],
   "source": [
    "from sklearn.model_selection import train_test_split\n",
    "X_train, X_test, y_train, y_test = train_test_split(X,y,test_size=0.2,random_state=10)"
   ]
  },
  {
   "cell_type": "code",
   "execution_count": 79,
   "metadata": {
    "id": "WOyTE3HCZwNw"
   },
   "outputs": [
    {
     "data": {
      "text/plain": [
       "0.5194705404524205"
      ]
     },
     "execution_count": 79,
     "metadata": {},
     "output_type": "execute_result"
    }
   ],
   "source": [
    "from sklearn.linear_model import LinearRegression\n",
    "lr_clf = LinearRegression()\n",
    "lr_clf.fit(X_train,y_train)\n",
    "lr_clf.score(X_test,y_test)"
   ]
  },
  {
   "cell_type": "markdown",
   "metadata": {
    "id": "I-iHvcwxZwNx"
   },
   "source": [
    "<h2 style='color:blue'>Use K Fold cross validation to measure accuracy of LinearRegression model</h2>"
   ]
  },
  {
   "cell_type": "code",
   "execution_count": 81,
   "metadata": {
    "id": "4Zv1J-kTZwNx"
   },
   "outputs": [
    {
     "data": {
      "text/plain": [
       "array([0.46159468, 0.57787149, 0.61932374, 0.22170991, 0.50560714])"
      ]
     },
     "execution_count": 81,
     "metadata": {},
     "output_type": "execute_result"
    }
   ],
   "source": [
    "from sklearn.model_selection import ShuffleSplit\n",
    "from sklearn.model_selection import cross_val_score\n",
    "\n",
    "cv = ShuffleSplit(n_splits=5, test_size=0.2, random_state=0)\n",
    "\n",
    "cross_val_score(LinearRegression(), X, y, cv=cv)"
   ]
  },
  {
   "cell_type": "markdown",
   "metadata": {
    "id": "L4_2YDh-ZwNx"
   },
   "source": [
    "**We can see that in 5 iterations we get a score above 75% all the time. This is pretty good but we want to test few other algorithms for regression to see if we can get even better score.**"
   ]
  },
  {
   "cell_type": "markdown",
   "metadata": {
    "id": "Y8xOeVWAZwNx"
   },
   "source": [
    "<h2 style='color:blue'>Find best model using GridSearchCV</h2>"
   ]
  },
  {
   "cell_type": "code",
   "execution_count": 83,
   "metadata": {
    "id": "1cmyF1eaZwNy"
   },
   "outputs": [
    {
     "ename": "ValueError",
     "evalue": "Invalid parameter 'normalize' for estimator LinearRegression(). Valid parameters are: ['copy_X', 'fit_intercept', 'n_jobs', 'positive'].",
     "output_type": "error",
     "traceback": [
      "\u001b[1;31m---------------------------------------------------------------------------\u001b[0m",
      "\u001b[1;31mValueError\u001b[0m                                Traceback (most recent call last)",
      "Cell \u001b[1;32mIn[83], line 42\u001b[0m\n\u001b[0;32m     34\u001b[0m         scores\u001b[38;5;241m.\u001b[39mappend({\n\u001b[0;32m     35\u001b[0m             \u001b[38;5;124m'\u001b[39m\u001b[38;5;124mmodel\u001b[39m\u001b[38;5;124m'\u001b[39m: algo_name,\n\u001b[0;32m     36\u001b[0m             \u001b[38;5;124m'\u001b[39m\u001b[38;5;124mbest_score\u001b[39m\u001b[38;5;124m'\u001b[39m: gs\u001b[38;5;241m.\u001b[39mbest_score_,\n\u001b[0;32m     37\u001b[0m             \u001b[38;5;124m'\u001b[39m\u001b[38;5;124mbest_params\u001b[39m\u001b[38;5;124m'\u001b[39m: gs\u001b[38;5;241m.\u001b[39mbest_params_\n\u001b[0;32m     38\u001b[0m         })\n\u001b[0;32m     40\u001b[0m     \u001b[38;5;28;01mreturn\u001b[39;00m pd\u001b[38;5;241m.\u001b[39mDataFrame(scores,columns\u001b[38;5;241m=\u001b[39m[\u001b[38;5;124m'\u001b[39m\u001b[38;5;124mmodel\u001b[39m\u001b[38;5;124m'\u001b[39m,\u001b[38;5;124m'\u001b[39m\u001b[38;5;124mbest_score\u001b[39m\u001b[38;5;124m'\u001b[39m,\u001b[38;5;124m'\u001b[39m\u001b[38;5;124mbest_params\u001b[39m\u001b[38;5;124m'\u001b[39m])\n\u001b[1;32m---> 42\u001b[0m find_best_model_using_gridsearchcv(X,y)\n",
      "Cell \u001b[1;32mIn[83], line 33\u001b[0m, in \u001b[0;36mfind_best_model_using_gridsearchcv\u001b[1;34m(X, y)\u001b[0m\n\u001b[0;32m     31\u001b[0m \u001b[38;5;28;01mfor\u001b[39;00m algo_name, config \u001b[38;5;129;01min\u001b[39;00m algos\u001b[38;5;241m.\u001b[39mitems():\n\u001b[0;32m     32\u001b[0m     gs \u001b[38;5;241m=\u001b[39m  GridSearchCV(config[\u001b[38;5;124m'\u001b[39m\u001b[38;5;124mmodel\u001b[39m\u001b[38;5;124m'\u001b[39m], config[\u001b[38;5;124m'\u001b[39m\u001b[38;5;124mparams\u001b[39m\u001b[38;5;124m'\u001b[39m], cv\u001b[38;5;241m=\u001b[39mcv, return_train_score\u001b[38;5;241m=\u001b[39m\u001b[38;5;28;01mFalse\u001b[39;00m)\n\u001b[1;32m---> 33\u001b[0m     gs\u001b[38;5;241m.\u001b[39mfit(X,y)\n\u001b[0;32m     34\u001b[0m     scores\u001b[38;5;241m.\u001b[39mappend({\n\u001b[0;32m     35\u001b[0m         \u001b[38;5;124m'\u001b[39m\u001b[38;5;124mmodel\u001b[39m\u001b[38;5;124m'\u001b[39m: algo_name,\n\u001b[0;32m     36\u001b[0m         \u001b[38;5;124m'\u001b[39m\u001b[38;5;124mbest_score\u001b[39m\u001b[38;5;124m'\u001b[39m: gs\u001b[38;5;241m.\u001b[39mbest_score_,\n\u001b[0;32m     37\u001b[0m         \u001b[38;5;124m'\u001b[39m\u001b[38;5;124mbest_params\u001b[39m\u001b[38;5;124m'\u001b[39m: gs\u001b[38;5;241m.\u001b[39mbest_params_\n\u001b[0;32m     38\u001b[0m     })\n\u001b[0;32m     40\u001b[0m \u001b[38;5;28;01mreturn\u001b[39;00m pd\u001b[38;5;241m.\u001b[39mDataFrame(scores,columns\u001b[38;5;241m=\u001b[39m[\u001b[38;5;124m'\u001b[39m\u001b[38;5;124mmodel\u001b[39m\u001b[38;5;124m'\u001b[39m,\u001b[38;5;124m'\u001b[39m\u001b[38;5;124mbest_score\u001b[39m\u001b[38;5;124m'\u001b[39m,\u001b[38;5;124m'\u001b[39m\u001b[38;5;124mbest_params\u001b[39m\u001b[38;5;124m'\u001b[39m])\n",
      "File \u001b[1;32m~\\anaconda3\\Lib\\site-packages\\sklearn\\base.py:1474\u001b[0m, in \u001b[0;36m_fit_context.<locals>.decorator.<locals>.wrapper\u001b[1;34m(estimator, *args, **kwargs)\u001b[0m\n\u001b[0;32m   1467\u001b[0m     estimator\u001b[38;5;241m.\u001b[39m_validate_params()\n\u001b[0;32m   1469\u001b[0m \u001b[38;5;28;01mwith\u001b[39;00m config_context(\n\u001b[0;32m   1470\u001b[0m     skip_parameter_validation\u001b[38;5;241m=\u001b[39m(\n\u001b[0;32m   1471\u001b[0m         prefer_skip_nested_validation \u001b[38;5;129;01mor\u001b[39;00m global_skip_validation\n\u001b[0;32m   1472\u001b[0m     )\n\u001b[0;32m   1473\u001b[0m ):\n\u001b[1;32m-> 1474\u001b[0m     \u001b[38;5;28;01mreturn\u001b[39;00m fit_method(estimator, \u001b[38;5;241m*\u001b[39margs, \u001b[38;5;241m*\u001b[39m\u001b[38;5;241m*\u001b[39mkwargs)\n",
      "File \u001b[1;32m~\\anaconda3\\Lib\\site-packages\\sklearn\\model_selection\\_search.py:970\u001b[0m, in \u001b[0;36mBaseSearchCV.fit\u001b[1;34m(self, X, y, **params)\u001b[0m\n\u001b[0;32m    964\u001b[0m     results \u001b[38;5;241m=\u001b[39m \u001b[38;5;28mself\u001b[39m\u001b[38;5;241m.\u001b[39m_format_results(\n\u001b[0;32m    965\u001b[0m         all_candidate_params, n_splits, all_out, all_more_results\n\u001b[0;32m    966\u001b[0m     )\n\u001b[0;32m    968\u001b[0m     \u001b[38;5;28;01mreturn\u001b[39;00m results\n\u001b[1;32m--> 970\u001b[0m \u001b[38;5;28mself\u001b[39m\u001b[38;5;241m.\u001b[39m_run_search(evaluate_candidates)\n\u001b[0;32m    972\u001b[0m \u001b[38;5;66;03m# multimetric is determined here because in the case of a callable\u001b[39;00m\n\u001b[0;32m    973\u001b[0m \u001b[38;5;66;03m# self.scoring the return type is only known after calling\u001b[39;00m\n\u001b[0;32m    974\u001b[0m first_test_score \u001b[38;5;241m=\u001b[39m all_out[\u001b[38;5;241m0\u001b[39m][\u001b[38;5;124m\"\u001b[39m\u001b[38;5;124mtest_scores\u001b[39m\u001b[38;5;124m\"\u001b[39m]\n",
      "File \u001b[1;32m~\\anaconda3\\Lib\\site-packages\\sklearn\\model_selection\\_search.py:1527\u001b[0m, in \u001b[0;36mGridSearchCV._run_search\u001b[1;34m(self, evaluate_candidates)\u001b[0m\n\u001b[0;32m   1525\u001b[0m \u001b[38;5;28;01mdef\u001b[39;00m \u001b[38;5;21m_run_search\u001b[39m(\u001b[38;5;28mself\u001b[39m, evaluate_candidates):\n\u001b[0;32m   1526\u001b[0m \u001b[38;5;250m    \u001b[39m\u001b[38;5;124;03m\"\"\"Search all candidates in param_grid\"\"\"\u001b[39;00m\n\u001b[1;32m-> 1527\u001b[0m     evaluate_candidates(ParameterGrid(\u001b[38;5;28mself\u001b[39m\u001b[38;5;241m.\u001b[39mparam_grid))\n",
      "File \u001b[1;32m~\\anaconda3\\Lib\\site-packages\\sklearn\\model_selection\\_search.py:916\u001b[0m, in \u001b[0;36mBaseSearchCV.fit.<locals>.evaluate_candidates\u001b[1;34m(candidate_params, cv, more_results)\u001b[0m\n\u001b[0;32m    908\u001b[0m \u001b[38;5;28;01mif\u001b[39;00m \u001b[38;5;28mself\u001b[39m\u001b[38;5;241m.\u001b[39mverbose \u001b[38;5;241m>\u001b[39m \u001b[38;5;241m0\u001b[39m:\n\u001b[0;32m    909\u001b[0m     \u001b[38;5;28mprint\u001b[39m(\n\u001b[0;32m    910\u001b[0m         \u001b[38;5;124m\"\u001b[39m\u001b[38;5;124mFitting \u001b[39m\u001b[38;5;132;01m{0}\u001b[39;00m\u001b[38;5;124m folds for each of \u001b[39m\u001b[38;5;132;01m{1}\u001b[39;00m\u001b[38;5;124m candidates,\u001b[39m\u001b[38;5;124m\"\u001b[39m\n\u001b[0;32m    911\u001b[0m         \u001b[38;5;124m\"\u001b[39m\u001b[38;5;124m totalling \u001b[39m\u001b[38;5;132;01m{2}\u001b[39;00m\u001b[38;5;124m fits\u001b[39m\u001b[38;5;124m\"\u001b[39m\u001b[38;5;241m.\u001b[39mformat(\n\u001b[0;32m    912\u001b[0m             n_splits, n_candidates, n_candidates \u001b[38;5;241m*\u001b[39m n_splits\n\u001b[0;32m    913\u001b[0m         )\n\u001b[0;32m    914\u001b[0m     )\n\u001b[1;32m--> 916\u001b[0m out \u001b[38;5;241m=\u001b[39m parallel(\n\u001b[0;32m    917\u001b[0m     delayed(_fit_and_score)(\n\u001b[0;32m    918\u001b[0m         clone(base_estimator),\n\u001b[0;32m    919\u001b[0m         X,\n\u001b[0;32m    920\u001b[0m         y,\n\u001b[0;32m    921\u001b[0m         train\u001b[38;5;241m=\u001b[39mtrain,\n\u001b[0;32m    922\u001b[0m         test\u001b[38;5;241m=\u001b[39mtest,\n\u001b[0;32m    923\u001b[0m         parameters\u001b[38;5;241m=\u001b[39mparameters,\n\u001b[0;32m    924\u001b[0m         split_progress\u001b[38;5;241m=\u001b[39m(split_idx, n_splits),\n\u001b[0;32m    925\u001b[0m         candidate_progress\u001b[38;5;241m=\u001b[39m(cand_idx, n_candidates),\n\u001b[0;32m    926\u001b[0m         \u001b[38;5;241m*\u001b[39m\u001b[38;5;241m*\u001b[39mfit_and_score_kwargs,\n\u001b[0;32m    927\u001b[0m     )\n\u001b[0;32m    928\u001b[0m     \u001b[38;5;28;01mfor\u001b[39;00m (cand_idx, parameters), (split_idx, (train, test)) \u001b[38;5;129;01min\u001b[39;00m product(\n\u001b[0;32m    929\u001b[0m         \u001b[38;5;28menumerate\u001b[39m(candidate_params),\n\u001b[0;32m    930\u001b[0m         \u001b[38;5;28menumerate\u001b[39m(cv\u001b[38;5;241m.\u001b[39msplit(X, y, \u001b[38;5;241m*\u001b[39m\u001b[38;5;241m*\u001b[39mrouted_params\u001b[38;5;241m.\u001b[39msplitter\u001b[38;5;241m.\u001b[39msplit)),\n\u001b[0;32m    931\u001b[0m     )\n\u001b[0;32m    932\u001b[0m )\n\u001b[0;32m    934\u001b[0m \u001b[38;5;28;01mif\u001b[39;00m \u001b[38;5;28mlen\u001b[39m(out) \u001b[38;5;241m<\u001b[39m \u001b[38;5;241m1\u001b[39m:\n\u001b[0;32m    935\u001b[0m     \u001b[38;5;28;01mraise\u001b[39;00m \u001b[38;5;167;01mValueError\u001b[39;00m(\n\u001b[0;32m    936\u001b[0m         \u001b[38;5;124m\"\u001b[39m\u001b[38;5;124mNo fits were performed. \u001b[39m\u001b[38;5;124m\"\u001b[39m\n\u001b[0;32m    937\u001b[0m         \u001b[38;5;124m\"\u001b[39m\u001b[38;5;124mWas the CV iterator empty? \u001b[39m\u001b[38;5;124m\"\u001b[39m\n\u001b[0;32m    938\u001b[0m         \u001b[38;5;124m\"\u001b[39m\u001b[38;5;124mWere there no candidates?\u001b[39m\u001b[38;5;124m\"\u001b[39m\n\u001b[0;32m    939\u001b[0m     )\n",
      "File \u001b[1;32m~\\anaconda3\\Lib\\site-packages\\sklearn\\utils\\parallel.py:67\u001b[0m, in \u001b[0;36mParallel.__call__\u001b[1;34m(self, iterable)\u001b[0m\n\u001b[0;32m     62\u001b[0m config \u001b[38;5;241m=\u001b[39m get_config()\n\u001b[0;32m     63\u001b[0m iterable_with_config \u001b[38;5;241m=\u001b[39m (\n\u001b[0;32m     64\u001b[0m     (_with_config(delayed_func, config), args, kwargs)\n\u001b[0;32m     65\u001b[0m     \u001b[38;5;28;01mfor\u001b[39;00m delayed_func, args, kwargs \u001b[38;5;129;01min\u001b[39;00m iterable\n\u001b[0;32m     66\u001b[0m )\n\u001b[1;32m---> 67\u001b[0m \u001b[38;5;28;01mreturn\u001b[39;00m \u001b[38;5;28msuper\u001b[39m()\u001b[38;5;241m.\u001b[39m\u001b[38;5;21m__call__\u001b[39m(iterable_with_config)\n",
      "File \u001b[1;32m~\\anaconda3\\Lib\\site-packages\\joblib\\parallel.py:1918\u001b[0m, in \u001b[0;36mParallel.__call__\u001b[1;34m(self, iterable)\u001b[0m\n\u001b[0;32m   1916\u001b[0m     output \u001b[38;5;241m=\u001b[39m \u001b[38;5;28mself\u001b[39m\u001b[38;5;241m.\u001b[39m_get_sequential_output(iterable)\n\u001b[0;32m   1917\u001b[0m     \u001b[38;5;28mnext\u001b[39m(output)\n\u001b[1;32m-> 1918\u001b[0m     \u001b[38;5;28;01mreturn\u001b[39;00m output \u001b[38;5;28;01mif\u001b[39;00m \u001b[38;5;28mself\u001b[39m\u001b[38;5;241m.\u001b[39mreturn_generator \u001b[38;5;28;01melse\u001b[39;00m \u001b[38;5;28mlist\u001b[39m(output)\n\u001b[0;32m   1920\u001b[0m \u001b[38;5;66;03m# Let's create an ID that uniquely identifies the current call. If the\u001b[39;00m\n\u001b[0;32m   1921\u001b[0m \u001b[38;5;66;03m# call is interrupted early and that the same instance is immediately\u001b[39;00m\n\u001b[0;32m   1922\u001b[0m \u001b[38;5;66;03m# re-used, this id will be used to prevent workers that were\u001b[39;00m\n\u001b[0;32m   1923\u001b[0m \u001b[38;5;66;03m# concurrently finalizing a task from the previous call to run the\u001b[39;00m\n\u001b[0;32m   1924\u001b[0m \u001b[38;5;66;03m# callback.\u001b[39;00m\n\u001b[0;32m   1925\u001b[0m \u001b[38;5;28;01mwith\u001b[39;00m \u001b[38;5;28mself\u001b[39m\u001b[38;5;241m.\u001b[39m_lock:\n",
      "File \u001b[1;32m~\\anaconda3\\Lib\\site-packages\\joblib\\parallel.py:1847\u001b[0m, in \u001b[0;36mParallel._get_sequential_output\u001b[1;34m(self, iterable)\u001b[0m\n\u001b[0;32m   1845\u001b[0m \u001b[38;5;28mself\u001b[39m\u001b[38;5;241m.\u001b[39mn_dispatched_batches \u001b[38;5;241m+\u001b[39m\u001b[38;5;241m=\u001b[39m \u001b[38;5;241m1\u001b[39m\n\u001b[0;32m   1846\u001b[0m \u001b[38;5;28mself\u001b[39m\u001b[38;5;241m.\u001b[39mn_dispatched_tasks \u001b[38;5;241m+\u001b[39m\u001b[38;5;241m=\u001b[39m \u001b[38;5;241m1\u001b[39m\n\u001b[1;32m-> 1847\u001b[0m res \u001b[38;5;241m=\u001b[39m func(\u001b[38;5;241m*\u001b[39margs, \u001b[38;5;241m*\u001b[39m\u001b[38;5;241m*\u001b[39mkwargs)\n\u001b[0;32m   1848\u001b[0m \u001b[38;5;28mself\u001b[39m\u001b[38;5;241m.\u001b[39mn_completed_tasks \u001b[38;5;241m+\u001b[39m\u001b[38;5;241m=\u001b[39m \u001b[38;5;241m1\u001b[39m\n\u001b[0;32m   1849\u001b[0m \u001b[38;5;28mself\u001b[39m\u001b[38;5;241m.\u001b[39mprint_progress()\n",
      "File \u001b[1;32m~\\anaconda3\\Lib\\site-packages\\sklearn\\utils\\parallel.py:129\u001b[0m, in \u001b[0;36m_FuncWrapper.__call__\u001b[1;34m(self, *args, **kwargs)\u001b[0m\n\u001b[0;32m    127\u001b[0m     config \u001b[38;5;241m=\u001b[39m {}\n\u001b[0;32m    128\u001b[0m \u001b[38;5;28;01mwith\u001b[39;00m config_context(\u001b[38;5;241m*\u001b[39m\u001b[38;5;241m*\u001b[39mconfig):\n\u001b[1;32m--> 129\u001b[0m     \u001b[38;5;28;01mreturn\u001b[39;00m \u001b[38;5;28mself\u001b[39m\u001b[38;5;241m.\u001b[39mfunction(\u001b[38;5;241m*\u001b[39margs, \u001b[38;5;241m*\u001b[39m\u001b[38;5;241m*\u001b[39mkwargs)\n",
      "File \u001b[1;32m~\\anaconda3\\Lib\\site-packages\\sklearn\\model_selection\\_validation.py:883\u001b[0m, in \u001b[0;36m_fit_and_score\u001b[1;34m(estimator, X, y, scorer, train, test, verbose, parameters, fit_params, score_params, return_train_score, return_parameters, return_n_test_samples, return_times, return_estimator, split_progress, candidate_progress, error_score)\u001b[0m\n\u001b[0;32m    876\u001b[0m score_params_test \u001b[38;5;241m=\u001b[39m _check_method_params(X, params\u001b[38;5;241m=\u001b[39mscore_params, indices\u001b[38;5;241m=\u001b[39mtest)\n\u001b[0;32m    878\u001b[0m \u001b[38;5;28;01mif\u001b[39;00m parameters \u001b[38;5;129;01mis\u001b[39;00m \u001b[38;5;129;01mnot\u001b[39;00m \u001b[38;5;28;01mNone\u001b[39;00m:\n\u001b[0;32m    879\u001b[0m     \u001b[38;5;66;03m# here we clone the parameters, since sometimes the parameters\u001b[39;00m\n\u001b[0;32m    880\u001b[0m     \u001b[38;5;66;03m# themselves might be estimators, e.g. when we search over different\u001b[39;00m\n\u001b[0;32m    881\u001b[0m     \u001b[38;5;66;03m# estimators in a pipeline.\u001b[39;00m\n\u001b[0;32m    882\u001b[0m     \u001b[38;5;66;03m# ref: https://github.com/scikit-learn/scikit-learn/pull/26786\u001b[39;00m\n\u001b[1;32m--> 883\u001b[0m     estimator \u001b[38;5;241m=\u001b[39m estimator\u001b[38;5;241m.\u001b[39mset_params(\u001b[38;5;241m*\u001b[39m\u001b[38;5;241m*\u001b[39mclone(parameters, safe\u001b[38;5;241m=\u001b[39m\u001b[38;5;28;01mFalse\u001b[39;00m))\n\u001b[0;32m    885\u001b[0m start_time \u001b[38;5;241m=\u001b[39m time\u001b[38;5;241m.\u001b[39mtime()\n\u001b[0;32m    887\u001b[0m X_train, y_train \u001b[38;5;241m=\u001b[39m _safe_split(estimator, X, y, train)\n",
      "File \u001b[1;32m~\\anaconda3\\Lib\\site-packages\\sklearn\\base.py:279\u001b[0m, in \u001b[0;36mBaseEstimator.set_params\u001b[1;34m(self, **params)\u001b[0m\n\u001b[0;32m    277\u001b[0m \u001b[38;5;28;01mif\u001b[39;00m key \u001b[38;5;129;01mnot\u001b[39;00m \u001b[38;5;129;01min\u001b[39;00m valid_params:\n\u001b[0;32m    278\u001b[0m     local_valid_params \u001b[38;5;241m=\u001b[39m \u001b[38;5;28mself\u001b[39m\u001b[38;5;241m.\u001b[39m_get_param_names()\n\u001b[1;32m--> 279\u001b[0m     \u001b[38;5;28;01mraise\u001b[39;00m \u001b[38;5;167;01mValueError\u001b[39;00m(\n\u001b[0;32m    280\u001b[0m         \u001b[38;5;124mf\u001b[39m\u001b[38;5;124m\"\u001b[39m\u001b[38;5;124mInvalid parameter \u001b[39m\u001b[38;5;132;01m{\u001b[39;00mkey\u001b[38;5;132;01m!r}\u001b[39;00m\u001b[38;5;124m for estimator \u001b[39m\u001b[38;5;132;01m{\u001b[39;00m\u001b[38;5;28mself\u001b[39m\u001b[38;5;132;01m}\u001b[39;00m\u001b[38;5;124m. \u001b[39m\u001b[38;5;124m\"\u001b[39m\n\u001b[0;32m    281\u001b[0m         \u001b[38;5;124mf\u001b[39m\u001b[38;5;124m\"\u001b[39m\u001b[38;5;124mValid parameters are: \u001b[39m\u001b[38;5;132;01m{\u001b[39;00mlocal_valid_params\u001b[38;5;132;01m!r}\u001b[39;00m\u001b[38;5;124m.\u001b[39m\u001b[38;5;124m\"\u001b[39m\n\u001b[0;32m    282\u001b[0m     )\n\u001b[0;32m    284\u001b[0m \u001b[38;5;28;01mif\u001b[39;00m delim:\n\u001b[0;32m    285\u001b[0m     nested_params[key][sub_key] \u001b[38;5;241m=\u001b[39m value\n",
      "\u001b[1;31mValueError\u001b[0m: Invalid parameter 'normalize' for estimator LinearRegression(). Valid parameters are: ['copy_X', 'fit_intercept', 'n_jobs', 'positive']."
     ]
    }
   ],
   "source": [
    "from sklearn.model_selection import GridSearchCV\n",
    "\n",
    "from sklearn.linear_model import Lasso\n",
    "from sklearn.tree import DecisionTreeRegressor\n",
    "\n",
    "def find_best_model_using_gridsearchcv(X,y):\n",
    "    algos = {\n",
    "        'linear_regression' : {\n",
    "            'model': LinearRegression(),\n",
    "            'params': {\n",
    "                'normalize': [True, False]\n",
    "            }\n",
    "        },\n",
    "        'lasso': {\n",
    "            'model': Lasso(),\n",
    "            'params': {\n",
    "                'alpha': [1,2],\n",
    "                'selection': ['random', 'cyclic']\n",
    "            }\n",
    "        },\n",
    "        'decision_tree': {\n",
    "            'model': DecisionTreeRegressor(),\n",
    "            'params': {\n",
    "                'criterion' : ['mse','friedman_mse'],\n",
    "                'splitter': ['best','random']\n",
    "            }\n",
    "        }\n",
    "    }\n",
    "    scores = []\n",
    "    cv = ShuffleSplit(n_splits=5, test_size=0.2, random_state=0)\n",
    "    for algo_name, config in algos.items():\n",
    "        gs =  GridSearchCV(config['model'], config['params'], cv=cv, return_train_score=False)\n",
    "        gs.fit(X,y)\n",
    "        scores.append({\n",
    "            'model': algo_name,\n",
    "            'best_score': gs.best_score_,\n",
    "            'best_params': gs.best_params_\n",
    "        })\n",
    "\n",
    "    return pd.DataFrame(scores,columns=['model','best_score','best_params'])\n",
    "\n",
    "find_best_model_using_gridsearchcv(X,y)"
   ]
  },
  {
   "cell_type": "code",
   "execution_count": 85,
   "metadata": {
    "id": "Kx2pewA9WunW"
   },
   "outputs": [],
   "source": [
    "pred= lr_clf.predict(X_test)"
   ]
  },
  {
   "cell_type": "code",
   "execution_count": 87,
   "metadata": {
    "id": "lGB0M-BkWzy2"
   },
   "outputs": [
    {
     "data": {
      "text/plain": [
       "<seaborn.axisgrid.FacetGrid at 0x1a8f3e37ce0>"
      ]
     },
     "execution_count": 87,
     "metadata": {},
     "output_type": "execute_result"
    },
    {
     "data": {
      "image/png": "[encoded data removed]",
      "text/plain": [
       "<Figure size 500x500 with 1 Axes>"
      ]
     },
     "metadata": {},
     "output_type": "display_data"
    }
   ],
   "source": [
    "import seaborn as sns\n",
    "sns.displot(y_test-pred)"
   ]
  },
  {
   "cell_type": "markdown",
   "metadata": {
    "id": "EG_yyFKLZwNy"
   },
   "source": [
    "**Based on above results we can say that LinearRegression gives the best score. Hence we will use that.**"
   ]
  }
 ],
 "metadata": {
  "colab": {
   "collapsed_sections": [],
   "name": "Bangalore Housing Price Prediction.ipynb",
   "provenance": []
  },
  "kernelspec": {
   "display_name": "Python 3 (ipykernel)",
   "language": "python",
   "name": "python3"
  },
  "language_info": {
   "codemirror_mode": {
    "name": "ipython",
    "version": 3
   },
   "file_extension": ".py",
   "mimetype": "text/x-python",
   "name": "python",
   "nbconvert_exporter": "python",
   "pygments_lexer": "ipython3",
   "version": "3.12.4"
  }
 },
 "nbformat": 4,
 "nbformat_minor": 4
}
